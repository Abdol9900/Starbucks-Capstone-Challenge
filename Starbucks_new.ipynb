{
 "cells": [
  {
   "cell_type": "markdown",
   "metadata": {},
   "source": [
    "# Starbucks Capstone Challenge\n",
    "\n",
    "### Introduction\n",
    "\n",
    "This data set contains simulated data that mimics customer behavior on the Starbucks rewards mobile app. Once every few days, Starbucks sends out an offer to users of the mobile app. An offer can be merely an advertisement for a drink or an actual offer such as a discount or BOGO (buy one get one free). Some users might not receive any offer during certain weeks. \n",
    "\n",
    "Not all users receive the same offer, and that is the challenge to solve with this data set.\n",
    "\n",
    "Your task is to combine transaction, demographic and offer data to determine which demographic groups respond best to which offer type. This data set is a simplified version of the real Starbucks app because the underlying simulator only has one product whereas Starbucks actually sells dozens of products.\n",
    "\n",
    "Every offer has a validity period before the offer expires. As an example, a BOGO offer might be valid for only 5 days. You'll see in the data set that informational offers have a validity period even though these ads are merely providing information about a product; for example, if an informational offer has 7 days of validity, you can assume the customer is feeling the influence of the offer for 7 days after receiving the advertisement.\n",
    "\n",
    "You'll be given transactional data showing user purchases made on the app including the timestamp of purchase and the amount of money spent on a purchase. This transactional data also has a record for each offer that a user receives as well as a record for when a user actually views the offer. There are also records for when a user completes an offer. \n",
    "\n",
    "Keep in mind as well that someone using the app might make a purchase through the app without having received an offer or seen an offer.\n",
    "\n",
    "### Example\n",
    "\n",
    "To give an example, a user could receive a discount offer buy 10 dollars get 2 off on Monday. The offer is valid for 10 days from receipt. If the customer accumulates at least 10 dollars in purchases during the validity period, the customer completes the offer.\n",
    "\n",
    "However, there are a few things to watch out for in this data set. Customers do not opt into the offers that they receive; in other words, a user can receive an offer, never actually view the offer, and still complete the offer. For example, a user might receive the \"buy 10 dollars get 2 dollars off offer\", but the user never opens the offer during the 10 day validity period. The customer spends 15 dollars during those ten days. There will be an offer completion record in the data set; however, the customer was not influenced by the offer because the customer never viewed the offer.\n",
    "\n",
    "### Cleaning\n",
    "\n",
    "This makes data cleaning especially important and tricky.\n",
    "\n",
    "You'll also want to take into account that some demographic groups will make purchases even if they don't receive an offer. From a business perspective, if a customer is going to make a 10 dollar purchase without an offer anyway, you wouldn't want to send a buy 10 dollars get 2 dollars off offer. You'll want to try to assess what a certain demographic group will buy when not receiving any offers.\n",
    "\n",
    "### Final Advice\n",
    "\n",
    "Because this is a capstone project, you are free to analyze the data any way you see fit. For example, you could build a machine learning model that predicts how much someone will spend based on demographics and offer type. Or you could build a model that predicts whether or not someone will respond to an offer. Or, you don't need to build a machine learning model at all. You could develop a set of heuristics that determine what offer you should send to each customer (i.e., 75 percent of women customers who were 35 years old responded to offer A vs 40 percent from the same demographic to offer B, so send offer A)."
   ]
  },
  {
   "cell_type": "markdown",
   "metadata": {},
   "source": [
    "# Data Sets\n",
    "\n",
    "The data is contained in three files:\n",
    "\n",
    "* portfolio.json - containing offer ids and meta data about each offer (duration, type, etc.)\n",
    "* profile.json - demographic data for each customer\n",
    "* transcript.json - records for transactions, offers received, offers viewed, and offers completed\n",
    "\n",
    "Here is the schema and explanation of each variable in the files:\n",
    "\n",
    "**portfolio.json**\n",
    "* id (string) - offer id\n",
    "* offer_type (string) - type of offer ie BOGO, discount, informational\n",
    "* difficulty (int) - minimum required spend to complete an offer\n",
    "* reward (int) - reward given for completing an offer\n",
    "* duration (int) - time for offer to be open, in days\n",
    "* channels (list of strings)\n",
    "\n",
    "**profile.json**\n",
    "* age (int) - age of the customer \n",
    "* became_member_on (int) - date when customer created an app account\n",
    "* gender (str) - gender of the customer (note some entries contain 'O' for other rather than M or F)\n",
    "* id (str) - customer id\n",
    "* income (float) - customer's income\n",
    "\n",
    "**transcript.json**\n",
    "* event (str) - record description (ie transaction, offer received, offer viewed, etc.)\n",
    "* person (str) - customer id\n",
    "* time (int) - time in hours since start of test. The data begins at time t=0\n",
    "* value - (dict of strings) - either an offer id or transaction amount depending on the record\n",
    "\n",
    "**Note:** If you are using the workspace, you will need to go to the terminal and run the command `conda update pandas` before reading in the files. This is because the version of pandas in the workspace cannot read in the transcript.json file correctly, but the newest version of pandas can. You can access the termnal from the orange icon in the top left of this notebook.  \n",
    "\n",
    "You can see how to access the terminal and how the install works using the two images below.  First you need to access the terminal:\n",
    "\n",
    "<img src=\"pic1.png\"/>\n",
    "\n",
    "Then you will want to run the above command:\n",
    "\n",
    "<img src=\"pic2.png\"/>\n",
    "\n",
    "Finally, when you enter back into the notebook (use the jupyter icon again), you should be able to run the below cell without any errors."
   ]
  },
  {
   "cell_type": "code",
   "execution_count": 1,
   "metadata": {},
   "outputs": [],
   "source": [
    "import pandas as pd\n",
    "import numpy as np\n",
    "import json\n",
    "from datetime import datetime\n",
    "import matplotlib.pyplot as plt\n",
    "from matplotlib.colors import ListedColormap\n",
    "import seaborn as sns\n",
    "import warnings\n",
    "warnings.filterwarnings(\"ignore\")\n",
    "from sklearn.linear_model import LogisticRegression\n",
    "from sklearn.ensemble import AdaBoostClassifier\n",
    "from sklearn.metrics import accuracy_score,f1_score, classification_report, confusion_matrix\n",
    "from sklearn.model_selection import train_test_split, GridSearchCV, RandomizedSearchCV\n",
    "from sklearn.preprocessing import StandardScaler, FunctionTransformer\n",
    "from sklearn.pipeline import Pipeline, FeatureUnion\n",
    "from sklearn.dummy import DummyClassifier\n",
    "plt.style.use('seaborn')\n",
    "%matplotlib inline\n"
   ]
  },
  {
   "cell_type": "markdown",
   "metadata": {},
   "source": [
    "### Read data from files"
   ]
  },
  {
   "cell_type": "code",
   "execution_count": 2,
   "metadata": {},
   "outputs": [],
   "source": [
    "# read in the json files\n",
    "portfolios_data = pd.read_json('portfolio.json', orient='records', lines=True)\n",
    "profiles_data = pd.read_json('profile.json', orient='records', lines=True)\n",
    "transcripts_data = pd.read_json('transcript.json', orient='records', lines=True)"
   ]
  },
  {
   "cell_type": "markdown",
   "metadata": {},
   "source": [
    "#### Look if any of datasets have a null values"
   ]
  },
  {
   "cell_type": "code",
   "execution_count": 3,
   "metadata": {},
   "outputs": [
    {
     "data": {
      "text/plain": [
       "reward        False\n",
       "channels      False\n",
       "difficulty    False\n",
       "duration      False\n",
       "offer_type    False\n",
       "id            False\n",
       "dtype: bool"
      ]
     },
     "execution_count": 3,
     "metadata": {},
     "output_type": "execute_result"
    }
   ],
   "source": [
    "# look if dataset has an empty values\n",
    "portfolios_data.isnull().any()"
   ]
  },
  {
   "cell_type": "code",
   "execution_count": 4,
   "metadata": {},
   "outputs": [
    {
     "data": {
      "text/plain": [
       "gender               True\n",
       "age                 False\n",
       "id                  False\n",
       "became_member_on    False\n",
       "income               True\n",
       "dtype: bool"
      ]
     },
     "execution_count": 4,
     "metadata": {},
     "output_type": "execute_result"
    }
   ],
   "source": [
    "profiles_data.isnull().any()"
   ]
  },
  {
   "cell_type": "code",
   "execution_count": 5,
   "metadata": {},
   "outputs": [
    {
     "data": {
      "text/plain": [
       "person    False\n",
       "event     False\n",
       "value     False\n",
       "time      False\n",
       "dtype: bool"
      ]
     },
     "execution_count": 5,
     "metadata": {},
     "output_type": "execute_result"
    }
   ],
   "source": [
    "transcripts_data.isnull().any()"
   ]
  },
  {
   "cell_type": "markdown",
   "metadata": {},
   "source": [
    "# **1. Data Cleaning**\n",
    "\n",
    "## **Cleaning the portfolio data.**\n",
    "* Rename id col name to offer_id.\n",
    "* Apply one-hot encode.\n",
    "* Apply One-hot encode in offer_type Column"
   ]
  },
  {
   "cell_type": "code",
   "execution_count": 6,
   "metadata": {},
   "outputs": [
    {
     "data": {
      "text/html": [
       "<div>\n",
       "<style scoped>\n",
       "    .dataframe tbody tr th:only-of-type {\n",
       "        vertical-align: middle;\n",
       "    }\n",
       "\n",
       "    .dataframe tbody tr th {\n",
       "        vertical-align: top;\n",
       "    }\n",
       "\n",
       "    .dataframe thead th {\n",
       "        text-align: right;\n",
       "    }\n",
       "</style>\n",
       "<table border=\"1\" class=\"dataframe\">\n",
       "  <thead>\n",
       "    <tr style=\"text-align: right;\">\n",
       "      <th></th>\n",
       "      <th>reward</th>\n",
       "      <th>channels</th>\n",
       "      <th>difficulty</th>\n",
       "      <th>duration</th>\n",
       "      <th>offer_type</th>\n",
       "      <th>id</th>\n",
       "    </tr>\n",
       "  </thead>\n",
       "  <tbody>\n",
       "    <tr>\n",
       "      <th>0</th>\n",
       "      <td>10</td>\n",
       "      <td>[email, mobile, social]</td>\n",
       "      <td>10</td>\n",
       "      <td>7</td>\n",
       "      <td>bogo</td>\n",
       "      <td>ae264e3637204a6fb9bb56bc8210ddfd</td>\n",
       "    </tr>\n",
       "    <tr>\n",
       "      <th>1</th>\n",
       "      <td>10</td>\n",
       "      <td>[web, email, mobile, social]</td>\n",
       "      <td>10</td>\n",
       "      <td>5</td>\n",
       "      <td>bogo</td>\n",
       "      <td>4d5c57ea9a6940dd891ad53e9dbe8da0</td>\n",
       "    </tr>\n",
       "    <tr>\n",
       "      <th>2</th>\n",
       "      <td>0</td>\n",
       "      <td>[web, email, mobile]</td>\n",
       "      <td>0</td>\n",
       "      <td>4</td>\n",
       "      <td>informational</td>\n",
       "      <td>3f207df678b143eea3cee63160fa8bed</td>\n",
       "    </tr>\n",
       "    <tr>\n",
       "      <th>3</th>\n",
       "      <td>5</td>\n",
       "      <td>[web, email, mobile]</td>\n",
       "      <td>5</td>\n",
       "      <td>7</td>\n",
       "      <td>bogo</td>\n",
       "      <td>9b98b8c7a33c4b65b9aebfe6a799e6d9</td>\n",
       "    </tr>\n",
       "    <tr>\n",
       "      <th>4</th>\n",
       "      <td>5</td>\n",
       "      <td>[web, email]</td>\n",
       "      <td>20</td>\n",
       "      <td>10</td>\n",
       "      <td>discount</td>\n",
       "      <td>0b1e1539f2cc45b7b9fa7c272da2e1d7</td>\n",
       "    </tr>\n",
       "  </tbody>\n",
       "</table>\n",
       "</div>"
      ],
      "text/plain": [
       "   reward                      channels  difficulty  duration     offer_type  \\\n",
       "0      10       [email, mobile, social]          10         7           bogo   \n",
       "1      10  [web, email, mobile, social]          10         5           bogo   \n",
       "2       0          [web, email, mobile]           0         4  informational   \n",
       "3       5          [web, email, mobile]           5         7           bogo   \n",
       "4       5                  [web, email]          20        10       discount   \n",
       "\n",
       "                                 id  \n",
       "0  ae264e3637204a6fb9bb56bc8210ddfd  \n",
       "1  4d5c57ea9a6940dd891ad53e9dbe8da0  \n",
       "2  3f207df678b143eea3cee63160fa8bed  \n",
       "3  9b98b8c7a33c4b65b9aebfe6a799e6d9  \n",
       "4  0b1e1539f2cc45b7b9fa7c272da2e1d7  "
      ]
     },
     "execution_count": 6,
     "metadata": {},
     "output_type": "execute_result"
    }
   ],
   "source": [
    "portfolios_data.head()"
   ]
  },
  {
   "cell_type": "code",
   "execution_count": 7,
   "metadata": {},
   "outputs": [],
   "source": [
    "# one-hot encode offer type\n",
    "portfolios_data = pd.concat((portfolios_data, pd.get_dummies(portfolios_data['offer_type'])), axis=1)\n",
    "portfolios_data.drop(['offer_type'], inplace=True, axis=1)"
   ]
  },
  {
   "cell_type": "code",
   "execution_count": 8,
   "metadata": {},
   "outputs": [],
   "source": [
    "# rename id column\n",
    "portfolios_data.rename(columns={'id': 'offer_id'}, inplace=True)"
   ]
  },
  {
   "cell_type": "code",
   "execution_count": 9,
   "metadata": {},
   "outputs": [],
   "source": [
    "df_channels = pd.DataFrame(portfolios_data['channels'].apply(lambda x: ' '.join(x)).str.split(' ', expand=True))\n",
    "channels = np.unique(df_channels.dropna().values)"
   ]
  },
  {
   "cell_type": "code",
   "execution_count": 10,
   "metadata": {},
   "outputs": [
    {
     "data": {
      "text/html": [
       "<div>\n",
       "<style scoped>\n",
       "    .dataframe tbody tr th:only-of-type {\n",
       "        vertical-align: middle;\n",
       "    }\n",
       "\n",
       "    .dataframe tbody tr th {\n",
       "        vertical-align: top;\n",
       "    }\n",
       "\n",
       "    .dataframe thead th {\n",
       "        text-align: right;\n",
       "    }\n",
       "</style>\n",
       "<table border=\"1\" class=\"dataframe\">\n",
       "  <thead>\n",
       "    <tr style=\"text-align: right;\">\n",
       "      <th></th>\n",
       "      <th>reward</th>\n",
       "      <th>difficulty</th>\n",
       "      <th>duration</th>\n",
       "      <th>offer_id</th>\n",
       "      <th>bogo</th>\n",
       "      <th>discount</th>\n",
       "      <th>informational</th>\n",
       "      <th>email</th>\n",
       "      <th>mobile</th>\n",
       "      <th>social</th>\n",
       "      <th>web</th>\n",
       "    </tr>\n",
       "  </thead>\n",
       "  <tbody>\n",
       "    <tr>\n",
       "      <th>0</th>\n",
       "      <td>10</td>\n",
       "      <td>10</td>\n",
       "      <td>7</td>\n",
       "      <td>ae264e3637204a6fb9bb56bc8210ddfd</td>\n",
       "      <td>1</td>\n",
       "      <td>0</td>\n",
       "      <td>0</td>\n",
       "      <td>1</td>\n",
       "      <td>1</td>\n",
       "      <td>1</td>\n",
       "      <td>0</td>\n",
       "    </tr>\n",
       "    <tr>\n",
       "      <th>1</th>\n",
       "      <td>10</td>\n",
       "      <td>10</td>\n",
       "      <td>5</td>\n",
       "      <td>4d5c57ea9a6940dd891ad53e9dbe8da0</td>\n",
       "      <td>1</td>\n",
       "      <td>0</td>\n",
       "      <td>0</td>\n",
       "      <td>1</td>\n",
       "      <td>1</td>\n",
       "      <td>1</td>\n",
       "      <td>1</td>\n",
       "    </tr>\n",
       "    <tr>\n",
       "      <th>2</th>\n",
       "      <td>0</td>\n",
       "      <td>0</td>\n",
       "      <td>4</td>\n",
       "      <td>3f207df678b143eea3cee63160fa8bed</td>\n",
       "      <td>0</td>\n",
       "      <td>0</td>\n",
       "      <td>1</td>\n",
       "      <td>1</td>\n",
       "      <td>1</td>\n",
       "      <td>1</td>\n",
       "      <td>0</td>\n",
       "    </tr>\n",
       "    <tr>\n",
       "      <th>3</th>\n",
       "      <td>5</td>\n",
       "      <td>5</td>\n",
       "      <td>7</td>\n",
       "      <td>9b98b8c7a33c4b65b9aebfe6a799e6d9</td>\n",
       "      <td>1</td>\n",
       "      <td>0</td>\n",
       "      <td>0</td>\n",
       "      <td>1</td>\n",
       "      <td>1</td>\n",
       "      <td>1</td>\n",
       "      <td>0</td>\n",
       "    </tr>\n",
       "    <tr>\n",
       "      <th>4</th>\n",
       "      <td>5</td>\n",
       "      <td>20</td>\n",
       "      <td>10</td>\n",
       "      <td>0b1e1539f2cc45b7b9fa7c272da2e1d7</td>\n",
       "      <td>0</td>\n",
       "      <td>1</td>\n",
       "      <td>0</td>\n",
       "      <td>1</td>\n",
       "      <td>1</td>\n",
       "      <td>0</td>\n",
       "      <td>0</td>\n",
       "    </tr>\n",
       "  </tbody>\n",
       "</table>\n",
       "</div>"
      ],
      "text/plain": [
       "   reward  difficulty  duration                          offer_id  bogo  \\\n",
       "0      10          10         7  ae264e3637204a6fb9bb56bc8210ddfd     1   \n",
       "1      10          10         5  4d5c57ea9a6940dd891ad53e9dbe8da0     1   \n",
       "2       0           0         4  3f207df678b143eea3cee63160fa8bed     0   \n",
       "3       5           5         7  9b98b8c7a33c4b65b9aebfe6a799e6d9     1   \n",
       "4       5          20        10  0b1e1539f2cc45b7b9fa7c272da2e1d7     0   \n",
       "\n",
       "   discount  informational  email  mobile  social  web  \n",
       "0         0              0      1       1       1    0  \n",
       "1         0              0      1       1       1    1  \n",
       "2         0              1      1       1       1    0  \n",
       "3         0              0      1       1       1    0  \n",
       "4         1              0      1       1       0    0  "
      ]
     },
     "execution_count": 10,
     "metadata": {},
     "output_type": "execute_result"
    }
   ],
   "source": [
    "# one-hot encode channels\n",
    "df_channels.columns = channels\n",
    "for col in channels:\n",
    "    df_channels[col] = df_channels[col].apply(lambda x: 1 if x else 0)\n",
    "portfolios_data = pd.concat((portfolios_data, df_channels), axis=1)\n",
    "portfolios_data.drop(['channels'], inplace=True, axis=1)\n",
    "portfolios_data.head()"
   ]
  },
  {
   "cell_type": "markdown",
   "metadata": {},
   "source": [
    "## **B. Clean Profile data**\n",
    "\n",
    "\n",
    "* profile: rename id col name to customer_id.\n",
    "* profile: change age value of 118 to nan.\n",
    "* profile: create readable date format in became_member_on column.\n",
    "* profile: dropping rows that has no gender, income, age data\n",
    "* profile: convert gender values to numeric (0s , 1s)\n",
    "* profile: add starting years and months columns."
   ]
  },
  {
   "cell_type": "code",
   "execution_count": 11,
   "metadata": {},
   "outputs": [
    {
     "data": {
      "text/html": [
       "<div>\n",
       "<style scoped>\n",
       "    .dataframe tbody tr th:only-of-type {\n",
       "        vertical-align: middle;\n",
       "    }\n",
       "\n",
       "    .dataframe tbody tr th {\n",
       "        vertical-align: top;\n",
       "    }\n",
       "\n",
       "    .dataframe thead th {\n",
       "        text-align: right;\n",
       "    }\n",
       "</style>\n",
       "<table border=\"1\" class=\"dataframe\">\n",
       "  <thead>\n",
       "    <tr style=\"text-align: right;\">\n",
       "      <th></th>\n",
       "      <th>gender</th>\n",
       "      <th>age</th>\n",
       "      <th>id</th>\n",
       "      <th>became_member_on</th>\n",
       "      <th>income</th>\n",
       "    </tr>\n",
       "  </thead>\n",
       "  <tbody>\n",
       "    <tr>\n",
       "      <th>0</th>\n",
       "      <td>None</td>\n",
       "      <td>118</td>\n",
       "      <td>68be06ca386d4c31939f3a4f0e3dd783</td>\n",
       "      <td>20170212</td>\n",
       "      <td>NaN</td>\n",
       "    </tr>\n",
       "    <tr>\n",
       "      <th>1</th>\n",
       "      <td>F</td>\n",
       "      <td>55</td>\n",
       "      <td>0610b486422d4921ae7d2bf64640c50b</td>\n",
       "      <td>20170715</td>\n",
       "      <td>112000.0</td>\n",
       "    </tr>\n",
       "    <tr>\n",
       "      <th>2</th>\n",
       "      <td>None</td>\n",
       "      <td>118</td>\n",
       "      <td>38fe809add3b4fcf9315a9694bb96ff5</td>\n",
       "      <td>20180712</td>\n",
       "      <td>NaN</td>\n",
       "    </tr>\n",
       "    <tr>\n",
       "      <th>3</th>\n",
       "      <td>F</td>\n",
       "      <td>75</td>\n",
       "      <td>78afa995795e4d85b5d9ceeca43f5fef</td>\n",
       "      <td>20170509</td>\n",
       "      <td>100000.0</td>\n",
       "    </tr>\n",
       "    <tr>\n",
       "      <th>4</th>\n",
       "      <td>None</td>\n",
       "      <td>118</td>\n",
       "      <td>a03223e636434f42ac4c3df47e8bac43</td>\n",
       "      <td>20170804</td>\n",
       "      <td>NaN</td>\n",
       "    </tr>\n",
       "  </tbody>\n",
       "</table>\n",
       "</div>"
      ],
      "text/plain": [
       "  gender  age                                id  became_member_on    income\n",
       "0   None  118  68be06ca386d4c31939f3a4f0e3dd783          20170212       NaN\n",
       "1      F   55  0610b486422d4921ae7d2bf64640c50b          20170715  112000.0\n",
       "2   None  118  38fe809add3b4fcf9315a9694bb96ff5          20180712       NaN\n",
       "3      F   75  78afa995795e4d85b5d9ceeca43f5fef          20170509  100000.0\n",
       "4   None  118  a03223e636434f42ac4c3df47e8bac43          20170804       NaN"
      ]
     },
     "execution_count": 11,
     "metadata": {},
     "output_type": "execute_result"
    }
   ],
   "source": [
    "profiles_data.head()"
   ]
  },
  {
   "cell_type": "code",
   "execution_count": 12,
   "metadata": {},
   "outputs": [],
   "source": [
    "# convert time to datetime\n",
    "def apply_datetime(x):\n",
    "    return datetime.strptime(str(x), '%Y%m%d')\n",
    "profiles_data['became_member_on'] = profiles_data['became_member_on'].apply(lambda x: apply_datetime(x))\n"
   ]
  },
  {
   "cell_type": "code",
   "execution_count": 13,
   "metadata": {},
   "outputs": [
    {
     "data": {
      "text/html": [
       "<div>\n",
       "<style scoped>\n",
       "    .dataframe tbody tr th:only-of-type {\n",
       "        vertical-align: middle;\n",
       "    }\n",
       "\n",
       "    .dataframe tbody tr th {\n",
       "        vertical-align: top;\n",
       "    }\n",
       "\n",
       "    .dataframe thead th {\n",
       "        text-align: right;\n",
       "    }\n",
       "</style>\n",
       "<table border=\"1\" class=\"dataframe\">\n",
       "  <thead>\n",
       "    <tr style=\"text-align: right;\">\n",
       "      <th></th>\n",
       "      <th>age</th>\n",
       "      <th>income</th>\n",
       "    </tr>\n",
       "  </thead>\n",
       "  <tbody>\n",
       "    <tr>\n",
       "      <th>count</th>\n",
       "      <td>14825.000000</td>\n",
       "      <td>14825.000000</td>\n",
       "    </tr>\n",
       "    <tr>\n",
       "      <th>mean</th>\n",
       "      <td>54.393524</td>\n",
       "      <td>65404.991568</td>\n",
       "    </tr>\n",
       "    <tr>\n",
       "      <th>std</th>\n",
       "      <td>17.383705</td>\n",
       "      <td>21598.299410</td>\n",
       "    </tr>\n",
       "    <tr>\n",
       "      <th>min</th>\n",
       "      <td>18.000000</td>\n",
       "      <td>30000.000000</td>\n",
       "    </tr>\n",
       "    <tr>\n",
       "      <th>25%</th>\n",
       "      <td>42.000000</td>\n",
       "      <td>49000.000000</td>\n",
       "    </tr>\n",
       "    <tr>\n",
       "      <th>50%</th>\n",
       "      <td>55.000000</td>\n",
       "      <td>64000.000000</td>\n",
       "    </tr>\n",
       "    <tr>\n",
       "      <th>75%</th>\n",
       "      <td>66.000000</td>\n",
       "      <td>80000.000000</td>\n",
       "    </tr>\n",
       "    <tr>\n",
       "      <th>max</th>\n",
       "      <td>101.000000</td>\n",
       "      <td>120000.000000</td>\n",
       "    </tr>\n",
       "  </tbody>\n",
       "</table>\n",
       "</div>"
      ],
      "text/plain": [
       "                age         income\n",
       "count  14825.000000   14825.000000\n",
       "mean      54.393524   65404.991568\n",
       "std       17.383705   21598.299410\n",
       "min       18.000000   30000.000000\n",
       "25%       42.000000   49000.000000\n",
       "50%       55.000000   64000.000000\n",
       "75%       66.000000   80000.000000\n",
       "max      101.000000  120000.000000"
      ]
     },
     "execution_count": 13,
     "metadata": {},
     "output_type": "execute_result"
    }
   ],
   "source": [
    "profiles_data['age'] = profiles_data['age'].apply(lambda x: None if x == 118 else x)\n",
    "profiles_data.describe()"
   ]
  },
  {
   "cell_type": "code",
   "execution_count": 14,
   "metadata": {},
   "outputs": [],
   "source": [
    "profiles_data.dropna(axis=0, inplace=True)"
   ]
  },
  {
   "cell_type": "code",
   "execution_count": 15,
   "metadata": {},
   "outputs": [],
   "source": [
    "profiles_data['gender'] = profiles_data['gender'].apply(lambda x: 0 if x == 'F' else 1)\n",
    "profiles_data.dropna(inplace=True)"
   ]
  },
  {
   "cell_type": "code",
   "execution_count": 16,
   "metadata": {},
   "outputs": [
    {
     "data": {
      "text/html": [
       "<div>\n",
       "<style scoped>\n",
       "    .dataframe tbody tr th:only-of-type {\n",
       "        vertical-align: middle;\n",
       "    }\n",
       "\n",
       "    .dataframe tbody tr th {\n",
       "        vertical-align: top;\n",
       "    }\n",
       "\n",
       "    .dataframe thead th {\n",
       "        text-align: right;\n",
       "    }\n",
       "</style>\n",
       "<table border=\"1\" class=\"dataframe\">\n",
       "  <thead>\n",
       "    <tr style=\"text-align: right;\">\n",
       "      <th></th>\n",
       "      <th>gender</th>\n",
       "      <th>age</th>\n",
       "      <th>customer_id</th>\n",
       "      <th>became_member_on</th>\n",
       "      <th>income</th>\n",
       "    </tr>\n",
       "  </thead>\n",
       "  <tbody>\n",
       "    <tr>\n",
       "      <th>0</th>\n",
       "      <td>0</td>\n",
       "      <td>55.0</td>\n",
       "      <td>0610b486422d4921ae7d2bf64640c50b</td>\n",
       "      <td>2017-07-15</td>\n",
       "      <td>112000.0</td>\n",
       "    </tr>\n",
       "    <tr>\n",
       "      <th>1</th>\n",
       "      <td>0</td>\n",
       "      <td>75.0</td>\n",
       "      <td>78afa995795e4d85b5d9ceeca43f5fef</td>\n",
       "      <td>2017-05-09</td>\n",
       "      <td>100000.0</td>\n",
       "    </tr>\n",
       "    <tr>\n",
       "      <th>2</th>\n",
       "      <td>1</td>\n",
       "      <td>68.0</td>\n",
       "      <td>e2127556f4f64592b11af22de27a7932</td>\n",
       "      <td>2018-04-26</td>\n",
       "      <td>70000.0</td>\n",
       "    </tr>\n",
       "    <tr>\n",
       "      <th>3</th>\n",
       "      <td>1</td>\n",
       "      <td>65.0</td>\n",
       "      <td>389bc3fa690240e798340f5a15918d5c</td>\n",
       "      <td>2018-02-09</td>\n",
       "      <td>53000.0</td>\n",
       "    </tr>\n",
       "    <tr>\n",
       "      <th>4</th>\n",
       "      <td>1</td>\n",
       "      <td>58.0</td>\n",
       "      <td>2eeac8d8feae4a8cad5a6af0499a211d</td>\n",
       "      <td>2017-11-11</td>\n",
       "      <td>51000.0</td>\n",
       "    </tr>\n",
       "  </tbody>\n",
       "</table>\n",
       "</div>"
      ],
      "text/plain": [
       "   gender   age                       customer_id became_member_on    income\n",
       "0       0  55.0  0610b486422d4921ae7d2bf64640c50b       2017-07-15  112000.0\n",
       "1       0  75.0  78afa995795e4d85b5d9ceeca43f5fef       2017-05-09  100000.0\n",
       "2       1  68.0  e2127556f4f64592b11af22de27a7932       2018-04-26   70000.0\n",
       "3       1  65.0  389bc3fa690240e798340f5a15918d5c       2018-02-09   53000.0\n",
       "4       1  58.0  2eeac8d8feae4a8cad5a6af0499a211d       2017-11-11   51000.0"
      ]
     },
     "execution_count": 16,
     "metadata": {},
     "output_type": "execute_result"
    }
   ],
   "source": [
    "profiles_data.rename(columns={'id': 'customer_id'}, inplace=True)\n",
    "profiles_data.reset_index(drop=True, inplace=True)\n",
    "profiles_data.head()"
   ]
  },
  {
   "cell_type": "code",
   "execution_count": 17,
   "metadata": {},
   "outputs": [
    {
     "data": {
      "text/plain": [
       "gender              False\n",
       "age                 False\n",
       "customer_id         False\n",
       "became_member_on    False\n",
       "income              False\n",
       "dtype: bool"
      ]
     },
     "execution_count": 17,
     "metadata": {},
     "output_type": "execute_result"
    }
   ],
   "source": [
    "profiles_data.isnull().any()"
   ]
  },
  {
   "cell_type": "code",
   "execution_count": 18,
   "metadata": {},
   "outputs": [],
   "source": [
    "profiles_data['year'] = profiles_data['became_member_on'].dt.year\n",
    "profiles_data['month'] = profiles_data['became_member_on'].dt.month"
   ]
  },
  {
   "cell_type": "code",
   "execution_count": 19,
   "metadata": {},
   "outputs": [
    {
     "data": {
      "text/html": [
       "<div>\n",
       "<style scoped>\n",
       "    .dataframe tbody tr th:only-of-type {\n",
       "        vertical-align: middle;\n",
       "    }\n",
       "\n",
       "    .dataframe tbody tr th {\n",
       "        vertical-align: top;\n",
       "    }\n",
       "\n",
       "    .dataframe thead th {\n",
       "        text-align: right;\n",
       "    }\n",
       "</style>\n",
       "<table border=\"1\" class=\"dataframe\">\n",
       "  <thead>\n",
       "    <tr style=\"text-align: right;\">\n",
       "      <th></th>\n",
       "      <th>gender</th>\n",
       "      <th>age</th>\n",
       "      <th>customer_id</th>\n",
       "      <th>became_member_on</th>\n",
       "      <th>income</th>\n",
       "      <th>year</th>\n",
       "      <th>month</th>\n",
       "    </tr>\n",
       "  </thead>\n",
       "  <tbody>\n",
       "    <tr>\n",
       "      <th>0</th>\n",
       "      <td>0</td>\n",
       "      <td>55.0</td>\n",
       "      <td>0610b486422d4921ae7d2bf64640c50b</td>\n",
       "      <td>2017-07-15</td>\n",
       "      <td>112000.0</td>\n",
       "      <td>2017</td>\n",
       "      <td>7</td>\n",
       "    </tr>\n",
       "    <tr>\n",
       "      <th>1</th>\n",
       "      <td>0</td>\n",
       "      <td>75.0</td>\n",
       "      <td>78afa995795e4d85b5d9ceeca43f5fef</td>\n",
       "      <td>2017-05-09</td>\n",
       "      <td>100000.0</td>\n",
       "      <td>2017</td>\n",
       "      <td>5</td>\n",
       "    </tr>\n",
       "    <tr>\n",
       "      <th>2</th>\n",
       "      <td>1</td>\n",
       "      <td>68.0</td>\n",
       "      <td>e2127556f4f64592b11af22de27a7932</td>\n",
       "      <td>2018-04-26</td>\n",
       "      <td>70000.0</td>\n",
       "      <td>2018</td>\n",
       "      <td>4</td>\n",
       "    </tr>\n",
       "    <tr>\n",
       "      <th>3</th>\n",
       "      <td>1</td>\n",
       "      <td>65.0</td>\n",
       "      <td>389bc3fa690240e798340f5a15918d5c</td>\n",
       "      <td>2018-02-09</td>\n",
       "      <td>53000.0</td>\n",
       "      <td>2018</td>\n",
       "      <td>2</td>\n",
       "    </tr>\n",
       "    <tr>\n",
       "      <th>4</th>\n",
       "      <td>1</td>\n",
       "      <td>58.0</td>\n",
       "      <td>2eeac8d8feae4a8cad5a6af0499a211d</td>\n",
       "      <td>2017-11-11</td>\n",
       "      <td>51000.0</td>\n",
       "      <td>2017</td>\n",
       "      <td>11</td>\n",
       "    </tr>\n",
       "  </tbody>\n",
       "</table>\n",
       "</div>"
      ],
      "text/plain": [
       "   gender   age                       customer_id became_member_on    income  \\\n",
       "0       0  55.0  0610b486422d4921ae7d2bf64640c50b       2017-07-15  112000.0   \n",
       "1       0  75.0  78afa995795e4d85b5d9ceeca43f5fef       2017-05-09  100000.0   \n",
       "2       1  68.0  e2127556f4f64592b11af22de27a7932       2018-04-26   70000.0   \n",
       "3       1  65.0  389bc3fa690240e798340f5a15918d5c       2018-02-09   53000.0   \n",
       "4       1  58.0  2eeac8d8feae4a8cad5a6af0499a211d       2017-11-11   51000.0   \n",
       "\n",
       "   year  month  \n",
       "0  2017      7  \n",
       "1  2017      5  \n",
       "2  2018      4  \n",
       "3  2018      2  \n",
       "4  2017     11  "
      ]
     },
     "execution_count": 19,
     "metadata": {},
     "output_type": "execute_result"
    }
   ],
   "source": [
    "profiles_data.head()"
   ]
  },
  {
   "cell_type": "markdown",
   "metadata": {},
   "source": [
    "## **C. Clean Transcript Data**\n",
    "\n",
    "* transcript: rename person col name to customer_id.\n",
    "* transcript: creating separate columns for amount and offer_id from value col.\n",
    "* transcript: dropping transaction rows whose customer_id is not in profile:customer_id\n",
    "* transcript: converting time in hours to time in days\n",
    "* segregate offer and transaction data\n",
    "* transcript: finally drop duplicates."
   ]
  },
  {
   "cell_type": "code",
   "execution_count": 20,
   "metadata": {},
   "outputs": [
    {
     "data": {
      "text/html": [
       "<div>\n",
       "<style scoped>\n",
       "    .dataframe tbody tr th:only-of-type {\n",
       "        vertical-align: middle;\n",
       "    }\n",
       "\n",
       "    .dataframe tbody tr th {\n",
       "        vertical-align: top;\n",
       "    }\n",
       "\n",
       "    .dataframe thead th {\n",
       "        text-align: right;\n",
       "    }\n",
       "</style>\n",
       "<table border=\"1\" class=\"dataframe\">\n",
       "  <thead>\n",
       "    <tr style=\"text-align: right;\">\n",
       "      <th></th>\n",
       "      <th>person</th>\n",
       "      <th>event</th>\n",
       "      <th>value</th>\n",
       "      <th>time</th>\n",
       "    </tr>\n",
       "  </thead>\n",
       "  <tbody>\n",
       "    <tr>\n",
       "      <th>0</th>\n",
       "      <td>78afa995795e4d85b5d9ceeca43f5fef</td>\n",
       "      <td>offer received</td>\n",
       "      <td>{'offer id': '9b98b8c7a33c4b65b9aebfe6a799e6d9'}</td>\n",
       "      <td>0</td>\n",
       "    </tr>\n",
       "    <tr>\n",
       "      <th>1</th>\n",
       "      <td>a03223e636434f42ac4c3df47e8bac43</td>\n",
       "      <td>offer received</td>\n",
       "      <td>{'offer id': '0b1e1539f2cc45b7b9fa7c272da2e1d7'}</td>\n",
       "      <td>0</td>\n",
       "    </tr>\n",
       "    <tr>\n",
       "      <th>2</th>\n",
       "      <td>e2127556f4f64592b11af22de27a7932</td>\n",
       "      <td>offer received</td>\n",
       "      <td>{'offer id': '2906b810c7d4411798c6938adc9daaa5'}</td>\n",
       "      <td>0</td>\n",
       "    </tr>\n",
       "    <tr>\n",
       "      <th>3</th>\n",
       "      <td>8ec6ce2a7e7949b1bf142def7d0e0586</td>\n",
       "      <td>offer received</td>\n",
       "      <td>{'offer id': 'fafdcd668e3743c1bb461111dcafc2a4'}</td>\n",
       "      <td>0</td>\n",
       "    </tr>\n",
       "    <tr>\n",
       "      <th>4</th>\n",
       "      <td>68617ca6246f4fbc85e91a2a49552598</td>\n",
       "      <td>offer received</td>\n",
       "      <td>{'offer id': '4d5c57ea9a6940dd891ad53e9dbe8da0'}</td>\n",
       "      <td>0</td>\n",
       "    </tr>\n",
       "  </tbody>\n",
       "</table>\n",
       "</div>"
      ],
      "text/plain": [
       "                             person           event  \\\n",
       "0  78afa995795e4d85b5d9ceeca43f5fef  offer received   \n",
       "1  a03223e636434f42ac4c3df47e8bac43  offer received   \n",
       "2  e2127556f4f64592b11af22de27a7932  offer received   \n",
       "3  8ec6ce2a7e7949b1bf142def7d0e0586  offer received   \n",
       "4  68617ca6246f4fbc85e91a2a49552598  offer received   \n",
       "\n",
       "                                              value  time  \n",
       "0  {'offer id': '9b98b8c7a33c4b65b9aebfe6a799e6d9'}     0  \n",
       "1  {'offer id': '0b1e1539f2cc45b7b9fa7c272da2e1d7'}     0  \n",
       "2  {'offer id': '2906b810c7d4411798c6938adc9daaa5'}     0  \n",
       "3  {'offer id': 'fafdcd668e3743c1bb461111dcafc2a4'}     0  \n",
       "4  {'offer id': '4d5c57ea9a6940dd891ad53e9dbe8da0'}     0  "
      ]
     },
     "execution_count": 20,
     "metadata": {},
     "output_type": "execute_result"
    }
   ],
   "source": [
    "transcripts_data.head()"
   ]
  },
  {
   "cell_type": "code",
   "execution_count": 21,
   "metadata": {},
   "outputs": [],
   "source": [
    "transcripts_data.rename(columns={'person': 'customer_id'}, inplace=True)"
   ]
  },
  {
   "cell_type": "code",
   "execution_count": 22,
   "metadata": {},
   "outputs": [],
   "source": [
    "# add two new columns - id for offer and amount spent by user - based on value column\n",
    "transcripts_data['offer_id'] = None\n",
    "transcripts_data['amount'] = None\n",
    "\n",
    "for i in range(len(transcripts_data)):\n",
    "    key, value = list(transcripts_data.iloc[i]['value'].items())[0]\n",
    "    if key in['offer_id', 'offer id']:\n",
    "        transcripts_data.at[i, 'offer_id'] = value\n",
    "    elif key == 'amount':\n",
    "        transcripts_data.at[i, 'amount'] = float(value)\n",
    "\n"
   ]
  },
  {
   "cell_type": "code",
   "execution_count": 23,
   "metadata": {},
   "outputs": [],
   "source": [
    "transcripts_data.drop(['value'], inplace=True, axis=1)"
   ]
  },
  {
   "cell_type": "code",
   "execution_count": 24,
   "metadata": {},
   "outputs": [],
   "source": [
    "# delete duplicates and set time in days\n",
    "transcripts_data['time'] = transcripts_data['time'].apply(lambda x: x / 24)\n",
    "transcripts_data.drop_duplicates(inplace=True)\n",
    "transcripts_data.reset_index(drop=True, inplace=True)"
   ]
  },
  {
   "cell_type": "code",
   "execution_count": 25,
   "metadata": {},
   "outputs": [
    {
     "data": {
      "text/html": [
       "<div>\n",
       "<style scoped>\n",
       "    .dataframe tbody tr th:only-of-type {\n",
       "        vertical-align: middle;\n",
       "    }\n",
       "\n",
       "    .dataframe tbody tr th {\n",
       "        vertical-align: top;\n",
       "    }\n",
       "\n",
       "    .dataframe thead th {\n",
       "        text-align: right;\n",
       "    }\n",
       "</style>\n",
       "<table border=\"1\" class=\"dataframe\">\n",
       "  <thead>\n",
       "    <tr style=\"text-align: right;\">\n",
       "      <th></th>\n",
       "      <th>customer_id</th>\n",
       "      <th>event</th>\n",
       "      <th>time</th>\n",
       "      <th>offer_id</th>\n",
       "      <th>amount</th>\n",
       "    </tr>\n",
       "  </thead>\n",
       "  <tbody>\n",
       "    <tr>\n",
       "      <th>0</th>\n",
       "      <td>78afa995795e4d85b5d9ceeca43f5fef</td>\n",
       "      <td>offer received</td>\n",
       "      <td>0.0</td>\n",
       "      <td>9b98b8c7a33c4b65b9aebfe6a799e6d9</td>\n",
       "      <td>None</td>\n",
       "    </tr>\n",
       "    <tr>\n",
       "      <th>1</th>\n",
       "      <td>a03223e636434f42ac4c3df47e8bac43</td>\n",
       "      <td>offer received</td>\n",
       "      <td>0.0</td>\n",
       "      <td>0b1e1539f2cc45b7b9fa7c272da2e1d7</td>\n",
       "      <td>None</td>\n",
       "    </tr>\n",
       "    <tr>\n",
       "      <th>2</th>\n",
       "      <td>e2127556f4f64592b11af22de27a7932</td>\n",
       "      <td>offer received</td>\n",
       "      <td>0.0</td>\n",
       "      <td>2906b810c7d4411798c6938adc9daaa5</td>\n",
       "      <td>None</td>\n",
       "    </tr>\n",
       "    <tr>\n",
       "      <th>3</th>\n",
       "      <td>8ec6ce2a7e7949b1bf142def7d0e0586</td>\n",
       "      <td>offer received</td>\n",
       "      <td>0.0</td>\n",
       "      <td>fafdcd668e3743c1bb461111dcafc2a4</td>\n",
       "      <td>None</td>\n",
       "    </tr>\n",
       "    <tr>\n",
       "      <th>4</th>\n",
       "      <td>68617ca6246f4fbc85e91a2a49552598</td>\n",
       "      <td>offer received</td>\n",
       "      <td>0.0</td>\n",
       "      <td>4d5c57ea9a6940dd891ad53e9dbe8da0</td>\n",
       "      <td>None</td>\n",
       "    </tr>\n",
       "  </tbody>\n",
       "</table>\n",
       "</div>"
      ],
      "text/plain": [
       "                        customer_id           event  time  \\\n",
       "0  78afa995795e4d85b5d9ceeca43f5fef  offer received   0.0   \n",
       "1  a03223e636434f42ac4c3df47e8bac43  offer received   0.0   \n",
       "2  e2127556f4f64592b11af22de27a7932  offer received   0.0   \n",
       "3  8ec6ce2a7e7949b1bf142def7d0e0586  offer received   0.0   \n",
       "4  68617ca6246f4fbc85e91a2a49552598  offer received   0.0   \n",
       "\n",
       "                           offer_id amount  \n",
       "0  9b98b8c7a33c4b65b9aebfe6a799e6d9   None  \n",
       "1  0b1e1539f2cc45b7b9fa7c272da2e1d7   None  \n",
       "2  2906b810c7d4411798c6938adc9daaa5   None  \n",
       "3  fafdcd668e3743c1bb461111dcafc2a4   None  \n",
       "4  4d5c57ea9a6940dd891ad53e9dbe8da0   None  "
      ]
     },
     "execution_count": 25,
     "metadata": {},
     "output_type": "execute_result"
    }
   ],
   "source": [
    "transcripts_data.head()"
   ]
  },
  {
   "cell_type": "code",
   "execution_count": 26,
   "metadata": {},
   "outputs": [
    {
     "data": {
      "text/plain": [
       "array(['offer completed', 'offer received', 'offer viewed', 'transaction'],\n",
       "      dtype=object)"
      ]
     },
     "execution_count": 26,
     "metadata": {},
     "output_type": "execute_result"
    }
   ],
   "source": [
    "# filte transcript data by users' ids, which are present in profiles dataset\n",
    "transcripts_data = transcripts_data[transcripts_data['customer_id'].isin(profiles_data['customer_id'])]\n",
    "# look at unique events\n",
    "events = np.unique(transcripts_data['event'].values)\n",
    "events"
   ]
  },
  {
   "cell_type": "code",
   "execution_count": 27,
   "metadata": {},
   "outputs": [
    {
     "data": {
      "text/html": [
       "<div>\n",
       "<style scoped>\n",
       "    .dataframe tbody tr th:only-of-type {\n",
       "        vertical-align: middle;\n",
       "    }\n",
       "\n",
       "    .dataframe tbody tr th {\n",
       "        vertical-align: top;\n",
       "    }\n",
       "\n",
       "    .dataframe thead th {\n",
       "        text-align: right;\n",
       "    }\n",
       "</style>\n",
       "<table border=\"1\" class=\"dataframe\">\n",
       "  <thead>\n",
       "    <tr style=\"text-align: right;\">\n",
       "      <th></th>\n",
       "      <th>viewed</th>\n",
       "      <th>completed</th>\n",
       "      <th>received</th>\n",
       "    </tr>\n",
       "  </thead>\n",
       "  <tbody>\n",
       "    <tr>\n",
       "      <th>0</th>\n",
       "      <td>98571</td>\n",
       "      <td>116361</td>\n",
       "      <td>81930</td>\n",
       "    </tr>\n",
       "    <tr>\n",
       "      <th>1</th>\n",
       "      <td>49860</td>\n",
       "      <td>32070</td>\n",
       "      <td>66501</td>\n",
       "    </tr>\n",
       "  </tbody>\n",
       "</table>\n",
       "</div>"
      ],
      "text/plain": [
       "   viewed  completed  received\n",
       "0   98571     116361     81930\n",
       "1   49860      32070     66501"
      ]
     },
     "execution_count": 27,
     "metadata": {},
     "output_type": "execute_result"
    }
   ],
   "source": [
    "# create dataset with only offers in it\n",
    "offers_data = transcripts_data[transcripts_data['event'] != 'transaction']\n",
    "# one-hot encode offer event\n",
    "offers_data ['received'] = offers_data.event.apply(lambda x: 1 if x == 'offer received' else 0)\n",
    "offers_data ['completed'] = offers_data.event.apply(lambda x: 1 if x == 'offer completed' else 0)\n",
    "offers_data ['viewed'] = offers_data.event.apply(lambda x: 1 if x == 'offer viewed' else 0)\n",
    "\n",
    "offers_data.drop(columns=['event', 'amount'], inplace=True, axis=1)\n",
    "offers_data[['viewed', 'completed', 'received']].apply(pd.Series.value_counts)"
   ]
  },
  {
   "cell_type": "markdown",
   "metadata": {},
   "source": [
    "# Exploratory Data Analysis"
   ]
  },
  {
   "cell_type": "markdown",
   "metadata": {},
   "source": [
    "## 1. Profile data"
   ]
  },
  {
   "cell_type": "code",
   "execution_count": 28,
   "metadata": {},
   "outputs": [
    {
     "data": {
      "text/html": [
       "<div>\n",
       "<style scoped>\n",
       "    .dataframe tbody tr th:only-of-type {\n",
       "        vertical-align: middle;\n",
       "    }\n",
       "\n",
       "    .dataframe tbody tr th {\n",
       "        vertical-align: top;\n",
       "    }\n",
       "\n",
       "    .dataframe thead th {\n",
       "        text-align: right;\n",
       "    }\n",
       "</style>\n",
       "<table border=\"1\" class=\"dataframe\">\n",
       "  <thead>\n",
       "    <tr style=\"text-align: right;\">\n",
       "      <th></th>\n",
       "      <th>gender</th>\n",
       "      <th>age</th>\n",
       "      <th>customer_id</th>\n",
       "      <th>became_member_on</th>\n",
       "      <th>income</th>\n",
       "      <th>year</th>\n",
       "      <th>month</th>\n",
       "    </tr>\n",
       "  </thead>\n",
       "  <tbody>\n",
       "    <tr>\n",
       "      <th>0</th>\n",
       "      <td>0</td>\n",
       "      <td>55.0</td>\n",
       "      <td>0610b486422d4921ae7d2bf64640c50b</td>\n",
       "      <td>2017-07-15</td>\n",
       "      <td>112000.0</td>\n",
       "      <td>2017</td>\n",
       "      <td>7</td>\n",
       "    </tr>\n",
       "    <tr>\n",
       "      <th>1</th>\n",
       "      <td>0</td>\n",
       "      <td>75.0</td>\n",
       "      <td>78afa995795e4d85b5d9ceeca43f5fef</td>\n",
       "      <td>2017-05-09</td>\n",
       "      <td>100000.0</td>\n",
       "      <td>2017</td>\n",
       "      <td>5</td>\n",
       "    </tr>\n",
       "    <tr>\n",
       "      <th>2</th>\n",
       "      <td>1</td>\n",
       "      <td>68.0</td>\n",
       "      <td>e2127556f4f64592b11af22de27a7932</td>\n",
       "      <td>2018-04-26</td>\n",
       "      <td>70000.0</td>\n",
       "      <td>2018</td>\n",
       "      <td>4</td>\n",
       "    </tr>\n",
       "    <tr>\n",
       "      <th>3</th>\n",
       "      <td>1</td>\n",
       "      <td>65.0</td>\n",
       "      <td>389bc3fa690240e798340f5a15918d5c</td>\n",
       "      <td>2018-02-09</td>\n",
       "      <td>53000.0</td>\n",
       "      <td>2018</td>\n",
       "      <td>2</td>\n",
       "    </tr>\n",
       "    <tr>\n",
       "      <th>4</th>\n",
       "      <td>1</td>\n",
       "      <td>58.0</td>\n",
       "      <td>2eeac8d8feae4a8cad5a6af0499a211d</td>\n",
       "      <td>2017-11-11</td>\n",
       "      <td>51000.0</td>\n",
       "      <td>2017</td>\n",
       "      <td>11</td>\n",
       "    </tr>\n",
       "  </tbody>\n",
       "</table>\n",
       "</div>"
      ],
      "text/plain": [
       "   gender   age                       customer_id became_member_on    income  \\\n",
       "0       0  55.0  0610b486422d4921ae7d2bf64640c50b       2017-07-15  112000.0   \n",
       "1       0  75.0  78afa995795e4d85b5d9ceeca43f5fef       2017-05-09  100000.0   \n",
       "2       1  68.0  e2127556f4f64592b11af22de27a7932       2018-04-26   70000.0   \n",
       "3       1  65.0  389bc3fa690240e798340f5a15918d5c       2018-02-09   53000.0   \n",
       "4       1  58.0  2eeac8d8feae4a8cad5a6af0499a211d       2017-11-11   51000.0   \n",
       "\n",
       "   year  month  \n",
       "0  2017      7  \n",
       "1  2017      5  \n",
       "2  2018      4  \n",
       "3  2018      2  \n",
       "4  2017     11  "
      ]
     },
     "execution_count": 28,
     "metadata": {},
     "output_type": "execute_result"
    }
   ],
   "source": [
    "profiles_data.head()"
   ]
  },
  {
   "cell_type": "code",
   "execution_count": 29,
   "metadata": {},
   "outputs": [
    {
     "data": {
      "text/plain": [
       "gender              False\n",
       "age                 False\n",
       "customer_id         False\n",
       "became_member_on    False\n",
       "income              False\n",
       "year                False\n",
       "month               False\n",
       "dtype: bool"
      ]
     },
     "execution_count": 29,
     "metadata": {},
     "output_type": "execute_result"
    }
   ],
   "source": [
    "# Checking the null vlaues\n",
    "profiles_data.isnull().any()"
   ]
  },
  {
   "cell_type": "code",
   "execution_count": 30,
   "metadata": {},
   "outputs": [
    {
     "data": {
      "text/plain": [
       "1    8696\n",
       "0    6129\n",
       "Name: gender, dtype: int64"
      ]
     },
     "execution_count": 30,
     "metadata": {},
     "output_type": "execute_result"
    }
   ],
   "source": [
    "# Compute gender distribution in customer's data\n",
    "profiles_data.gender.value_counts()"
   ]
  },
  {
   "cell_type": "code",
   "execution_count": 31,
   "metadata": {},
   "outputs": [
    {
     "data": {
      "image/png": "[encoded data removed]",
      "text/plain": [
       "<Figure size 432x288 with 1 Axes>"
      ]
     },
     "metadata": {
      "needs_background": "light"
     },
     "output_type": "display_data"
    }
   ],
   "source": [
    "ax = profiles_data.gender.value_counts().plot(kind='bar', title='Gender distribution')\n",
    "ax.set_xticklabels(['Males', 'Females']);"
   ]
  },
  {
   "cell_type": "markdown",
   "metadata": {},
   "source": [
    "Among the customers prevail men"
   ]
  },
  {
   "cell_type": "code",
   "execution_count": 32,
   "metadata": {},
   "outputs": [
    {
     "data": {
      "text/html": [
       "<div>\n",
       "<style scoped>\n",
       "    .dataframe tbody tr th:only-of-type {\n",
       "        vertical-align: middle;\n",
       "    }\n",
       "\n",
       "    .dataframe tbody tr th {\n",
       "        vertical-align: top;\n",
       "    }\n",
       "\n",
       "    .dataframe thead th {\n",
       "        text-align: right;\n",
       "    }\n",
       "</style>\n",
       "<table border=\"1\" class=\"dataframe\">\n",
       "  <thead>\n",
       "    <tr style=\"text-align: right;\">\n",
       "      <th></th>\n",
       "      <th>gender</th>\n",
       "      <th>age</th>\n",
       "      <th>income</th>\n",
       "      <th>year</th>\n",
       "      <th>month</th>\n",
       "    </tr>\n",
       "  </thead>\n",
       "  <tbody>\n",
       "    <tr>\n",
       "      <th>count</th>\n",
       "      <td>14825.000000</td>\n",
       "      <td>14825.000000</td>\n",
       "      <td>14825.000000</td>\n",
       "      <td>14825.000000</td>\n",
       "      <td>14825.000000</td>\n",
       "    </tr>\n",
       "    <tr>\n",
       "      <th>mean</th>\n",
       "      <td>0.586577</td>\n",
       "      <td>54.393524</td>\n",
       "      <td>65404.991568</td>\n",
       "      <td>2016.620169</td>\n",
       "      <td>6.695582</td>\n",
       "    </tr>\n",
       "    <tr>\n",
       "      <th>std</th>\n",
       "      <td>0.492464</td>\n",
       "      <td>17.383705</td>\n",
       "      <td>21598.299410</td>\n",
       "      <td>1.198245</td>\n",
       "      <td>3.488853</td>\n",
       "    </tr>\n",
       "    <tr>\n",
       "      <th>min</th>\n",
       "      <td>0.000000</td>\n",
       "      <td>18.000000</td>\n",
       "      <td>30000.000000</td>\n",
       "      <td>2013.000000</td>\n",
       "      <td>1.000000</td>\n",
       "    </tr>\n",
       "    <tr>\n",
       "      <th>25%</th>\n",
       "      <td>0.000000</td>\n",
       "      <td>42.000000</td>\n",
       "      <td>49000.000000</td>\n",
       "      <td>2016.000000</td>\n",
       "      <td>4.000000</td>\n",
       "    </tr>\n",
       "    <tr>\n",
       "      <th>50%</th>\n",
       "      <td>1.000000</td>\n",
       "      <td>55.000000</td>\n",
       "      <td>64000.000000</td>\n",
       "      <td>2017.000000</td>\n",
       "      <td>7.000000</td>\n",
       "    </tr>\n",
       "    <tr>\n",
       "      <th>75%</th>\n",
       "      <td>1.000000</td>\n",
       "      <td>66.000000</td>\n",
       "      <td>80000.000000</td>\n",
       "      <td>2017.000000</td>\n",
       "      <td>10.000000</td>\n",
       "    </tr>\n",
       "    <tr>\n",
       "      <th>max</th>\n",
       "      <td>1.000000</td>\n",
       "      <td>101.000000</td>\n",
       "      <td>120000.000000</td>\n",
       "      <td>2018.000000</td>\n",
       "      <td>12.000000</td>\n",
       "    </tr>\n",
       "  </tbody>\n",
       "</table>\n",
       "</div>"
      ],
      "text/plain": [
       "             gender           age         income          year         month\n",
       "count  14825.000000  14825.000000   14825.000000  14825.000000  14825.000000\n",
       "mean       0.586577     54.393524   65404.991568   2016.620169      6.695582\n",
       "std        0.492464     17.383705   21598.299410      1.198245      3.488853\n",
       "min        0.000000     18.000000   30000.000000   2013.000000      1.000000\n",
       "25%        0.000000     42.000000   49000.000000   2016.000000      4.000000\n",
       "50%        1.000000     55.000000   64000.000000   2017.000000      7.000000\n",
       "75%        1.000000     66.000000   80000.000000   2017.000000     10.000000\n",
       "max        1.000000    101.000000  120000.000000   2018.000000     12.000000"
      ]
     },
     "execution_count": 32,
     "metadata": {},
     "output_type": "execute_result"
    }
   ],
   "source": [
    "# Stats of customer age and income attributes when income is specified\n",
    "profiles_data[profiles_data['income'] != None].describe()"
   ]
  },
  {
   "cell_type": "code",
   "execution_count": 33,
   "metadata": {},
   "outputs": [
    {
     "data": {
      "text/plain": [
       "year\n",
       "2013     1.848229\n",
       "2014     4.465430\n",
       "2015    10.772344\n",
       "2016    20.397976\n",
       "2017    37.767285\n",
       "2018    24.748735\n",
       "Name: year, dtype: float64"
      ]
     },
     "execution_count": 33,
     "metadata": {},
     "output_type": "execute_result"
    }
   ],
   "source": [
    "#Compute what percent of customers vs which year enrolled as a member\n",
    "membership_each_year = profiles_data.groupby('year')['year'].count()\n",
    "\n",
    "membership_each_year = (membership_each_year / membership_each_year.sum()) * 100\n",
    "membership_each_year"
   ]
  },
  {
   "cell_type": "code",
   "execution_count": 34,
   "metadata": {},
   "outputs": [
    {
     "data": {
      "text/plain": [
       "1     1327.0\n",
       "2     1042.0\n",
       "3     1145.0\n",
       "4     1145.0\n",
       "5     1152.0\n",
       "6     1105.0\n",
       "7     1189.0\n",
       "8     1395.0\n",
       "9     1299.0\n",
       "10    1386.0\n",
       "11    1268.0\n",
       "12    1372.0\n",
       "Name: became_member_on, dtype: float64"
      ]
     },
     "execution_count": 34,
     "metadata": {},
     "output_type": "execute_result"
    }
   ],
   "source": [
    "# Compute what percent of customers vs which month enrolled as a member\n",
    "membership_each_month = profiles_data['became_member_on'].dt.month.value_counts()\n",
    "\n",
    "membership_each_month = (membership_each_month /  membership_each_year.sum()) * 100\n",
    "membership_each_month.sort_index()"
   ]
  },
  {
   "cell_type": "markdown",
   "metadata": {},
   "source": [
    "## Profile General Distribution — Age, Income, Members"
   ]
  },
  {
   "cell_type": "code",
   "execution_count": 35,
   "metadata": {},
   "outputs": [
    {
     "data": {
      "image/png": "[encoded data removed]",
      "text/plain": [
       "<Figure size 1440x432 with 3 Axes>"
      ]
     },
     "metadata": {
      "needs_background": "light"
     },
     "output_type": "display_data"
    }
   ],
   "source": [
    "# to be able to draw three subplots in a row\n",
    "fig, ax = plt.subplots(ncols=3, nrows=1, figsize=(20, 6))\n",
    "# plot a age distribution in data\n",
    "profiles_data['age'].plot(kind='hist', ax=ax[0])\n",
    "ax[0].set_xlabel('Age')\n",
    "ax[0].set_ylabel('Count')\n",
    "ax[0].set_title('Age Distribution')\n",
    "\n",
    "# plot a income distribution in data\n",
    "profiles_data['income'].plot(kind='hist', ax=ax[1])\n",
    "ax[1].set_xlabel('Income')\n",
    "ax[1].set_ylabel('Count')\n",
    "ax[1].set_title('Income Distribution')\n",
    "\n",
    "# plot a start_year distribution\n",
    "profiles_data['year'].plot(kind='hist', ax=ax[2])\n",
    "ax[2].set_xlabel('Year')\n",
    "ax[2].set_ylabel('Count')\n",
    "ax[2].set_title('Membership distribution by year');"
   ]
  },
  {
   "cell_type": "markdown",
   "metadata": {},
   "source": [
    "On the age distribution plot we see, that median age of customers is 60 and most of them belong to age between 40 to 70. \n",
    "\n",
    "Income distribution shows that the number of customers whose average salary is less than 70K is high\n",
    "\n",
    "The third plot shows that number of customers was growing year by year, and only on last, 2018 is a gap, when number of customers is lower than in 2017, but higher than in 2016."
   ]
  },
  {
   "cell_type": "markdown",
   "metadata": {},
   "source": [
    "### Income distribution as a function a gender"
   ]
  },
  {
   "cell_type": "code",
   "execution_count": 36,
   "metadata": {},
   "outputs": [
    {
     "data": {
      "image/png": "[encoded data removed]",
      "text/plain": [
       "<Figure size 432x288 with 1 Axes>"
      ]
     },
     "metadata": {
      "needs_background": "light"
     },
     "output_type": "display_data"
    }
   ],
   "source": [
    "sns.distplot(profiles_data[profiles_data['gender'] == 1]['income'], kde=False, label='Male')\n",
    "sns.distplot(profiles_data[profiles_data['gender'] == 0]['income'], kde=False, label='Female')\n",
    "plt.xticks(rotation=90)\n",
    "plt.title('Income distribution hue gender')\n",
    "plt.legend();"
   ]
  },
  {
   "cell_type": "markdown",
   "metadata": {},
   "source": [
    "In this plot we can see, that the minimum and maximum income for both male and female are almost the same, but the count of male customers in low-income level is higher than that of female customers."
   ]
  },
  {
   "cell_type": "markdown",
   "metadata": {},
   "source": [
    "### Age distribution as a function of gender"
   ]
  },
  {
   "cell_type": "code",
   "execution_count": 37,
   "metadata": {},
   "outputs": [
    {
     "data": {
      "image/png": "[encoded data removed]",
      "text/plain": [
       "<Figure size 432x288 with 1 Axes>"
      ]
     },
     "metadata": {
      "needs_background": "light"
     },
     "output_type": "display_data"
    }
   ],
   "source": [
    "sns.distplot(profiles_data[profiles_data['gender'] == 0]['age'], kde=False, label='Female')\n",
    "sns.distplot(profiles_data[profiles_data['gender'] == 1]['age'], kde=False, label='Male')\n",
    "plt.title('Age distribution hue gender')\n",
    "plt.legend();"
   ]
  },
  {
   "cell_type": "markdown",
   "metadata": {},
   "source": [
    "Number of males and females are distributed equaly - maximum and minimum age for both genders is the same, but we have more younger men."
   ]
  },
  {
   "cell_type": "code",
   "execution_count": 38,
   "metadata": {},
   "outputs": [
    {
     "data": {
      "image/png": "[encoded data removed]",
      "text/plain": [
       "<Figure size 720x360 with 1 Axes>"
      ]
     },
     "metadata": {
      "needs_background": "light"
     },
     "output_type": "display_data"
    }
   ],
   "source": [
    "# groupby start_year and gender to plot a graph\n",
    "g = profiles_data.groupby(['year', 'gender'], as_index=False).size()\n",
    "g = g.reset_index()\n",
    "g.columns = ['year', 'gender', 'count']\n",
    "# plot a bar graph for age distribution as a function of gender in membership program\n",
    "plt.figure(figsize=(10, 5))\n",
    "sns.barplot(x='year', y='count', hue='gender', data=g)\n",
    "plt.xlabel('Membership Start Year')\n",
    "plt.ylabel('Count');"
   ]
  },
  {
   "cell_type": "markdown",
   "metadata": {},
   "source": [
    "We see, that the Starbucks rewards program is more interesting for men rather for women."
   ]
  },
  {
   "cell_type": "markdown",
   "metadata": {},
   "source": [
    "# 2.Transaction data"
   ]
  },
  {
   "cell_type": "markdown",
   "metadata": {},
   "source": [
    "### Compute the event type distribution"
   ]
  },
  {
   "cell_type": "code",
   "execution_count": 39,
   "metadata": {},
   "outputs": [
    {
     "data": {
      "text/plain": [
       "transaction        123957\n",
       "offer received      66501\n",
       "offer viewed        49860\n",
       "offer completed     32070\n",
       "Name: event, dtype: int64"
      ]
     },
     "execution_count": 39,
     "metadata": {},
     "output_type": "execute_result"
    }
   ],
   "source": [
    "events = transcripts_data['event'].value_counts()\n",
    "events"
   ]
  },
  {
   "cell_type": "code",
   "execution_count": 40,
   "metadata": {},
   "outputs": [
    {
     "data": {
      "text/plain": [
       "(45.507511344112075, 54.492488655887925)"
      ]
     },
     "execution_count": 40,
     "metadata": {},
     "output_type": "execute_result"
    }
   ],
   "source": [
    "transactions = events.sum()\n",
    "\n",
    "transactions_in_percent = 100 * events[0] / transactions\n",
    "offers_in_percent = 100 * events[1:].sum() / transactions\n",
    "\n",
    "transactions_in_percent, offers_in_percent"
   ]
  },
  {
   "cell_type": "markdown",
   "metadata": {},
   "source": [
    "### Combine offer, customer and transactions data"
   ]
  },
  {
   "cell_type": "code",
   "execution_count": 41,
   "metadata": {},
   "outputs": [],
   "source": [
    "# get all users' ids\n",
    "users_ids = offers_data['customer_id'].unique()"
   ]
  },
  {
   "cell_type": "code",
   "execution_count": 43,
   "metadata": {
    "scrolled": false
   },
   "outputs": [
    {
     "data": {
      "text/html": [
       "<div>\n",
       "<style scoped>\n",
       "    .dataframe tbody tr th:only-of-type {\n",
       "        vertical-align: middle;\n",
       "    }\n",
       "\n",
       "    .dataframe tbody tr th {\n",
       "        vertical-align: top;\n",
       "    }\n",
       "\n",
       "    .dataframe thead th {\n",
       "        text-align: right;\n",
       "    }\n",
       "</style>\n",
       "<table border=\"1\" class=\"dataframe\">\n",
       "  <thead>\n",
       "    <tr style=\"text-align: right;\">\n",
       "      <th></th>\n",
       "      <th>id_offer</th>\n",
       "      <th>id_user</th>\n",
       "      <th>time_start</th>\n",
       "      <th>time_end</th>\n",
       "      <th>total_spent</th>\n",
       "      <th>is_successful</th>\n",
       "      <th>gender</th>\n",
       "      <th>age</th>\n",
       "      <th>customer_id</th>\n",
       "      <th>became_member_on</th>\n",
       "      <th>...</th>\n",
       "      <th>difficulty</th>\n",
       "      <th>duration</th>\n",
       "      <th>offer_id</th>\n",
       "      <th>bogo</th>\n",
       "      <th>discount</th>\n",
       "      <th>informational</th>\n",
       "      <th>email</th>\n",
       "      <th>mobile</th>\n",
       "      <th>social</th>\n",
       "      <th>web</th>\n",
       "    </tr>\n",
       "  </thead>\n",
       "  <tbody>\n",
       "    <tr>\n",
       "      <th>0</th>\n",
       "      <td>9b98b8c7a33c4b65b9aebfe6a799e6d9</td>\n",
       "      <td>78afa995795e4d85b5d9ceeca43f5fef</td>\n",
       "      <td>0.0</td>\n",
       "      <td>7.0</td>\n",
       "      <td>37.67</td>\n",
       "      <td>1</td>\n",
       "      <td>0</td>\n",
       "      <td>75.0</td>\n",
       "      <td>78afa995795e4d85b5d9ceeca43f5fef</td>\n",
       "      <td>2017-05-09</td>\n",
       "      <td>...</td>\n",
       "      <td>5</td>\n",
       "      <td>7</td>\n",
       "      <td>9b98b8c7a33c4b65b9aebfe6a799e6d9</td>\n",
       "      <td>1</td>\n",
       "      <td>0</td>\n",
       "      <td>0</td>\n",
       "      <td>1</td>\n",
       "      <td>1</td>\n",
       "      <td>1</td>\n",
       "      <td>0</td>\n",
       "    </tr>\n",
       "    <tr>\n",
       "      <th>1</th>\n",
       "      <td>5a8bc65990b245e5a138643cd4eb9837</td>\n",
       "      <td>78afa995795e4d85b5d9ceeca43f5fef</td>\n",
       "      <td>7.0</td>\n",
       "      <td>10.0</td>\n",
       "      <td>49.39</td>\n",
       "      <td>0</td>\n",
       "      <td>0</td>\n",
       "      <td>75.0</td>\n",
       "      <td>78afa995795e4d85b5d9ceeca43f5fef</td>\n",
       "      <td>2017-05-09</td>\n",
       "      <td>...</td>\n",
       "      <td>0</td>\n",
       "      <td>3</td>\n",
       "      <td>5a8bc65990b245e5a138643cd4eb9837</td>\n",
       "      <td>0</td>\n",
       "      <td>0</td>\n",
       "      <td>1</td>\n",
       "      <td>1</td>\n",
       "      <td>1</td>\n",
       "      <td>1</td>\n",
       "      <td>0</td>\n",
       "    </tr>\n",
       "    <tr>\n",
       "      <th>2</th>\n",
       "      <td>ae264e3637204a6fb9bb56bc8210ddfd</td>\n",
       "      <td>78afa995795e4d85b5d9ceeca43f5fef</td>\n",
       "      <td>17.0</td>\n",
       "      <td>24.0</td>\n",
       "      <td>48.28</td>\n",
       "      <td>1</td>\n",
       "      <td>0</td>\n",
       "      <td>75.0</td>\n",
       "      <td>78afa995795e4d85b5d9ceeca43f5fef</td>\n",
       "      <td>2017-05-09</td>\n",
       "      <td>...</td>\n",
       "      <td>10</td>\n",
       "      <td>7</td>\n",
       "      <td>ae264e3637204a6fb9bb56bc8210ddfd</td>\n",
       "      <td>1</td>\n",
       "      <td>0</td>\n",
       "      <td>0</td>\n",
       "      <td>1</td>\n",
       "      <td>1</td>\n",
       "      <td>1</td>\n",
       "      <td>0</td>\n",
       "    </tr>\n",
       "    <tr>\n",
       "      <th>3</th>\n",
       "      <td>f19421c1d4aa40978ebb69ca19b0e20d</td>\n",
       "      <td>78afa995795e4d85b5d9ceeca43f5fef</td>\n",
       "      <td>21.0</td>\n",
       "      <td>26.0</td>\n",
       "      <td>48.28</td>\n",
       "      <td>1</td>\n",
       "      <td>0</td>\n",
       "      <td>75.0</td>\n",
       "      <td>78afa995795e4d85b5d9ceeca43f5fef</td>\n",
       "      <td>2017-05-09</td>\n",
       "      <td>...</td>\n",
       "      <td>5</td>\n",
       "      <td>5</td>\n",
       "      <td>f19421c1d4aa40978ebb69ca19b0e20d</td>\n",
       "      <td>1</td>\n",
       "      <td>0</td>\n",
       "      <td>0</td>\n",
       "      <td>1</td>\n",
       "      <td>1</td>\n",
       "      <td>1</td>\n",
       "      <td>1</td>\n",
       "    </tr>\n",
       "    <tr>\n",
       "      <th>4</th>\n",
       "      <td>2906b810c7d4411798c6938adc9daaa5</td>\n",
       "      <td>e2127556f4f64592b11af22de27a7932</td>\n",
       "      <td>0.0</td>\n",
       "      <td>7.0</td>\n",
       "      <td>0.00</td>\n",
       "      <td>0</td>\n",
       "      <td>1</td>\n",
       "      <td>68.0</td>\n",
       "      <td>e2127556f4f64592b11af22de27a7932</td>\n",
       "      <td>2018-04-26</td>\n",
       "      <td>...</td>\n",
       "      <td>10</td>\n",
       "      <td>7</td>\n",
       "      <td>2906b810c7d4411798c6938adc9daaa5</td>\n",
       "      <td>0</td>\n",
       "      <td>1</td>\n",
       "      <td>0</td>\n",
       "      <td>1</td>\n",
       "      <td>1</td>\n",
       "      <td>1</td>\n",
       "      <td>0</td>\n",
       "    </tr>\n",
       "    <tr>\n",
       "      <th>...</th>\n",
       "      <td>...</td>\n",
       "      <td>...</td>\n",
       "      <td>...</td>\n",
       "      <td>...</td>\n",
       "      <td>...</td>\n",
       "      <td>...</td>\n",
       "      <td>...</td>\n",
       "      <td>...</td>\n",
       "      <td>...</td>\n",
       "      <td>...</td>\n",
       "      <td>...</td>\n",
       "      <td>...</td>\n",
       "      <td>...</td>\n",
       "      <td>...</td>\n",
       "      <td>...</td>\n",
       "      <td>...</td>\n",
       "      <td>...</td>\n",
       "      <td>...</td>\n",
       "      <td>...</td>\n",
       "      <td>...</td>\n",
       "      <td>...</td>\n",
       "    </tr>\n",
       "    <tr>\n",
       "      <th>66496</th>\n",
       "      <td>2906b810c7d4411798c6938adc9daaa5</td>\n",
       "      <td>3cc622f76e464bc1809a71e871579d6c</td>\n",
       "      <td>24.0</td>\n",
       "      <td>31.0</td>\n",
       "      <td>34.04</td>\n",
       "      <td>0</td>\n",
       "      <td>1</td>\n",
       "      <td>59.0</td>\n",
       "      <td>3cc622f76e464bc1809a71e871579d6c</td>\n",
       "      <td>2017-08-20</td>\n",
       "      <td>...</td>\n",
       "      <td>10</td>\n",
       "      <td>7</td>\n",
       "      <td>2906b810c7d4411798c6938adc9daaa5</td>\n",
       "      <td>0</td>\n",
       "      <td>1</td>\n",
       "      <td>0</td>\n",
       "      <td>1</td>\n",
       "      <td>1</td>\n",
       "      <td>1</td>\n",
       "      <td>0</td>\n",
       "    </tr>\n",
       "    <tr>\n",
       "      <th>66497</th>\n",
       "      <td>5a8bc65990b245e5a138643cd4eb9837</td>\n",
       "      <td>01fe5ec668f241608eb2f7ec374cb1b7</td>\n",
       "      <td>24.0</td>\n",
       "      <td>27.0</td>\n",
       "      <td>19.92</td>\n",
       "      <td>0</td>\n",
       "      <td>1</td>\n",
       "      <td>44.0</td>\n",
       "      <td>01fe5ec668f241608eb2f7ec374cb1b7</td>\n",
       "      <td>2017-08-02</td>\n",
       "      <td>...</td>\n",
       "      <td>0</td>\n",
       "      <td>3</td>\n",
       "      <td>5a8bc65990b245e5a138643cd4eb9837</td>\n",
       "      <td>0</td>\n",
       "      <td>0</td>\n",
       "      <td>1</td>\n",
       "      <td>1</td>\n",
       "      <td>1</td>\n",
       "      <td>1</td>\n",
       "      <td>0</td>\n",
       "    </tr>\n",
       "    <tr>\n",
       "      <th>66498</th>\n",
       "      <td>9b98b8c7a33c4b65b9aebfe6a799e6d9</td>\n",
       "      <td>d825b707198046e39baa4fdcfa11d621</td>\n",
       "      <td>24.0</td>\n",
       "      <td>31.0</td>\n",
       "      <td>28.42</td>\n",
       "      <td>0</td>\n",
       "      <td>1</td>\n",
       "      <td>61.0</td>\n",
       "      <td>d825b707198046e39baa4fdcfa11d621</td>\n",
       "      <td>2018-04-23</td>\n",
       "      <td>...</td>\n",
       "      <td>5</td>\n",
       "      <td>7</td>\n",
       "      <td>9b98b8c7a33c4b65b9aebfe6a799e6d9</td>\n",
       "      <td>1</td>\n",
       "      <td>0</td>\n",
       "      <td>0</td>\n",
       "      <td>1</td>\n",
       "      <td>1</td>\n",
       "      <td>1</td>\n",
       "      <td>0</td>\n",
       "    </tr>\n",
       "    <tr>\n",
       "      <th>66499</th>\n",
       "      <td>2298d6c36e964ae4a3e7e9706d1fb8c2</td>\n",
       "      <td>c207a8a8ef5c47ee970ca45f859e07eb</td>\n",
       "      <td>24.0</td>\n",
       "      <td>31.0</td>\n",
       "      <td>75.84</td>\n",
       "      <td>1</td>\n",
       "      <td>0</td>\n",
       "      <td>52.0</td>\n",
       "      <td>c207a8a8ef5c47ee970ca45f859e07eb</td>\n",
       "      <td>2017-12-23</td>\n",
       "      <td>...</td>\n",
       "      <td>7</td>\n",
       "      <td>7</td>\n",
       "      <td>2298d6c36e964ae4a3e7e9706d1fb8c2</td>\n",
       "      <td>0</td>\n",
       "      <td>1</td>\n",
       "      <td>0</td>\n",
       "      <td>1</td>\n",
       "      <td>1</td>\n",
       "      <td>1</td>\n",
       "      <td>1</td>\n",
       "    </tr>\n",
       "    <tr>\n",
       "      <th>66500</th>\n",
       "      <td>2298d6c36e964ae4a3e7e9706d1fb8c2</td>\n",
       "      <td>9a3f45cf29ef428b932492c7a5d6ac52</td>\n",
       "      <td>24.0</td>\n",
       "      <td>31.0</td>\n",
       "      <td>14.25</td>\n",
       "      <td>1</td>\n",
       "      <td>1</td>\n",
       "      <td>20.0</td>\n",
       "      <td>9a3f45cf29ef428b932492c7a5d6ac52</td>\n",
       "      <td>2016-10-19</td>\n",
       "      <td>...</td>\n",
       "      <td>7</td>\n",
       "      <td>7</td>\n",
       "      <td>2298d6c36e964ae4a3e7e9706d1fb8c2</td>\n",
       "      <td>0</td>\n",
       "      <td>1</td>\n",
       "      <td>0</td>\n",
       "      <td>1</td>\n",
       "      <td>1</td>\n",
       "      <td>1</td>\n",
       "      <td>1</td>\n",
       "    </tr>\n",
       "  </tbody>\n",
       "</table>\n",
       "<p>66501 rows × 24 columns</p>\n",
       "</div>"
      ],
      "text/plain": [
       "                               id_offer                           id_user  \\\n",
       "0      9b98b8c7a33c4b65b9aebfe6a799e6d9  78afa995795e4d85b5d9ceeca43f5fef   \n",
       "1      5a8bc65990b245e5a138643cd4eb9837  78afa995795e4d85b5d9ceeca43f5fef   \n",
       "2      ae264e3637204a6fb9bb56bc8210ddfd  78afa995795e4d85b5d9ceeca43f5fef   \n",
       "3      f19421c1d4aa40978ebb69ca19b0e20d  78afa995795e4d85b5d9ceeca43f5fef   \n",
       "4      2906b810c7d4411798c6938adc9daaa5  e2127556f4f64592b11af22de27a7932   \n",
       "...                                 ...                               ...   \n",
       "66496  2906b810c7d4411798c6938adc9daaa5  3cc622f76e464bc1809a71e871579d6c   \n",
       "66497  5a8bc65990b245e5a138643cd4eb9837  01fe5ec668f241608eb2f7ec374cb1b7   \n",
       "66498  9b98b8c7a33c4b65b9aebfe6a799e6d9  d825b707198046e39baa4fdcfa11d621   \n",
       "66499  2298d6c36e964ae4a3e7e9706d1fb8c2  c207a8a8ef5c47ee970ca45f859e07eb   \n",
       "66500  2298d6c36e964ae4a3e7e9706d1fb8c2  9a3f45cf29ef428b932492c7a5d6ac52   \n",
       "\n",
       "       time_start  time_end  total_spent  is_successful  gender   age  \\\n",
       "0             0.0       7.0        37.67              1       0  75.0   \n",
       "1             7.0      10.0        49.39              0       0  75.0   \n",
       "2            17.0      24.0        48.28              1       0  75.0   \n",
       "3            21.0      26.0        48.28              1       0  75.0   \n",
       "4             0.0       7.0         0.00              0       1  68.0   \n",
       "...           ...       ...          ...            ...     ...   ...   \n",
       "66496        24.0      31.0        34.04              0       1  59.0   \n",
       "66497        24.0      27.0        19.92              0       1  44.0   \n",
       "66498        24.0      31.0        28.42              0       1  61.0   \n",
       "66499        24.0      31.0        75.84              1       0  52.0   \n",
       "66500        24.0      31.0        14.25              1       1  20.0   \n",
       "\n",
       "                            customer_id became_member_on  ...  difficulty  \\\n",
       "0      78afa995795e4d85b5d9ceeca43f5fef       2017-05-09  ...           5   \n",
       "1      78afa995795e4d85b5d9ceeca43f5fef       2017-05-09  ...           0   \n",
       "2      78afa995795e4d85b5d9ceeca43f5fef       2017-05-09  ...          10   \n",
       "3      78afa995795e4d85b5d9ceeca43f5fef       2017-05-09  ...           5   \n",
       "4      e2127556f4f64592b11af22de27a7932       2018-04-26  ...          10   \n",
       "...                                 ...              ...  ...         ...   \n",
       "66496  3cc622f76e464bc1809a71e871579d6c       2017-08-20  ...          10   \n",
       "66497  01fe5ec668f241608eb2f7ec374cb1b7       2017-08-02  ...           0   \n",
       "66498  d825b707198046e39baa4fdcfa11d621       2018-04-23  ...           5   \n",
       "66499  c207a8a8ef5c47ee970ca45f859e07eb       2017-12-23  ...           7   \n",
       "66500  9a3f45cf29ef428b932492c7a5d6ac52       2016-10-19  ...           7   \n",
       "\n",
       "       duration                          offer_id  bogo  discount  \\\n",
       "0             7  9b98b8c7a33c4b65b9aebfe6a799e6d9     1         0   \n",
       "1             3  5a8bc65990b245e5a138643cd4eb9837     0         0   \n",
       "2             7  ae264e3637204a6fb9bb56bc8210ddfd     1         0   \n",
       "3             5  f19421c1d4aa40978ebb69ca19b0e20d     1         0   \n",
       "4             7  2906b810c7d4411798c6938adc9daaa5     0         1   \n",
       "...         ...                               ...   ...       ...   \n",
       "66496         7  2906b810c7d4411798c6938adc9daaa5     0         1   \n",
       "66497         3  5a8bc65990b245e5a138643cd4eb9837     0         0   \n",
       "66498         7  9b98b8c7a33c4b65b9aebfe6a799e6d9     1         0   \n",
       "66499         7  2298d6c36e964ae4a3e7e9706d1fb8c2     0         1   \n",
       "66500         7  2298d6c36e964ae4a3e7e9706d1fb8c2     0         1   \n",
       "\n",
       "       informational email  mobile  social  web  \n",
       "0                  0     1       1       1    0  \n",
       "1                  1     1       1       1    0  \n",
       "2                  0     1       1       1    0  \n",
       "3                  0     1       1       1    1  \n",
       "4                  0     1       1       1    0  \n",
       "...              ...   ...     ...     ...  ...  \n",
       "66496              0     1       1       1    0  \n",
       "66497              1     1       1       1    0  \n",
       "66498              0     1       1       1    0  \n",
       "66499              0     1       1       1    1  \n",
       "66500              0     1       1       1    1  \n",
       "\n",
       "[66501 rows x 24 columns]"
      ]
     },
     "execution_count": 43,
     "metadata": {},
     "output_type": "execute_result"
    }
   ],
   "source": [
    "# merge all datasets in one\n",
    "data = []\n",
    "# for every unique id of users\n",
    "for id in users_ids:\n",
    "    # get profile of user\n",
    "    user = profiles_data[profiles_data['customer_id'] == id]\n",
    "    # get actions of user\n",
    "    actions = transcripts_data[transcripts_data['customer_id'] == id]\n",
    "    # get payments\n",
    "    payments = actions[actions['event'] == 'transaction']\n",
    "    # get offers with diven id oedered to customer\n",
    "    offers = offers_data[offers_data['customer_id'] == id]\n",
    "    # get offers which were received, viewed and completed \n",
    "    offer_received_data = offers[offers['received'] == 1]\n",
    "    offer_completed_data = offers[offers['completed'] == 1]\n",
    "    offer_viewed_data = offers[offers['viewed'] == 1]\n",
    "    rows = []\n",
    "    # for each offer received\n",
    "    for ind in range(offer_received_data.shape[0]):\n",
    "        # get id\n",
    "        offer_id = offer_received_data.iloc[ind]['offer_id']\n",
    "        # get portfolio\n",
    "        portfolio = portfolios_data[portfolios_data['offer_id'] == offer_id]\n",
    "        # get offers with current id\n",
    "        offer = offers[offers['offer_id'] == offer_id]\n",
    "        # calculate start and end time\n",
    "        start_offer = offer_received_data.iloc[ind]['time']\n",
    "        end_offer = start_offer + portfolio['duration'].values[0]\n",
    "        # was offer completed    \n",
    "        filter_completed = (\n",
    "            offer_completed_data['time'] >= start_offer) & (offer_completed_data['time'] <= end_offer)\n",
    "        # was osser viewed in time (before offer ended)\n",
    "        filter_viewed = (\n",
    "                offer_viewed_data['time'] >= start_offer) & (offer_viewed_data['time'] <= end_offer)\n",
    "        # was offer successful (viewed and completed within end time)\n",
    "        offer_successful = filter_completed.sum() > 0 and filter_viewed.sum() > 0\n",
    "        # get transaction amount in time of the offer\n",
    "        transactions_filter = (payments['time'] >= start_offer) & (payments['time'] <= end_offer)\n",
    "        transaction_in_time = payments[transactions_filter]\n",
    "        # get total transaction\n",
    "        transaction_total = transaction_in_time['amount'].sum()\n",
    "        dict_row = {\n",
    "                'id_offer': offer_id,\n",
    "                'id_user': id,\n",
    "                'time_start': start_offer,\n",
    "                'time_end': end_offer,\n",
    "                'total_spent': transaction_total,\n",
    "                'is_successful': int(offer_successful),\n",
    "            }\n",
    "        dict_row.update(user.iloc[0].to_dict())\n",
    "        dict_row.update(portfolio.iloc[0].to_dict())\n",
    "        rows.append(dict_row)\n",
    "    data.extend(rows)\n",
    "df = pd.DataFrame(data)\n",
    "df  "
   ]
  },
  {
   "cell_type": "code",
   "execution_count": 44,
   "metadata": {},
   "outputs": [
    {
     "data": {
      "text/plain": [
       "0    35136\n",
       "1    31365\n",
       "Name: is_successful, dtype: int64"
      ]
     },
     "execution_count": 44,
     "metadata": {},
     "output_type": "execute_result"
    }
   ],
   "source": [
    "df['is_successful'].value_counts()"
   ]
  },
  {
   "cell_type": "code",
   "execution_count": 45,
   "metadata": {},
   "outputs": [
    {
     "data": {
      "text/plain": [
       "Index(['id_offer', 'id_user', 'time_start', 'time_end', 'total_spent',\n",
       "       'is_successful', 'gender', 'age', 'customer_id', 'became_member_on',\n",
       "       'income', 'year', 'month', 'reward', 'difficulty', 'duration',\n",
       "       'offer_id', 'bogo', 'discount', 'informational', 'email', 'mobile',\n",
       "       'social', 'web'],\n",
       "      dtype='object')"
      ]
     },
     "execution_count": 45,
     "metadata": {},
     "output_type": "execute_result"
    }
   ],
   "source": [
    "df.columns"
   ]
  },
  {
   "cell_type": "code",
   "execution_count": 46,
   "metadata": {},
   "outputs": [],
   "source": [
    "df[['time_start', 'time_end', 'total_spent',\n",
    "       'is_successful', 'gender', 'age', 'customer_id', 'became_member_on',\n",
    "       'income', 'year', 'month', 'reward', 'difficulty', 'duration',\n",
    "       'offer_id', 'bogo', 'discount', 'informational', 'email', 'mobile',\n",
    "       'social', 'web']].to_csv('offer_analysis.csv', index=False)"
   ]
  },
  {
   "cell_type": "code",
   "execution_count": 47,
   "metadata": {},
   "outputs": [],
   "source": [
    "df = pd.read_csv('offer_analysis.csv', parse_dates=['became_member_on'])"
   ]
  },
  {
   "cell_type": "code",
   "execution_count": 48,
   "metadata": {},
   "outputs": [
    {
     "data": {
      "text/html": [
       "<div>\n",
       "<style scoped>\n",
       "    .dataframe tbody tr th:only-of-type {\n",
       "        vertical-align: middle;\n",
       "    }\n",
       "\n",
       "    .dataframe tbody tr th {\n",
       "        vertical-align: top;\n",
       "    }\n",
       "\n",
       "    .dataframe thead th {\n",
       "        text-align: right;\n",
       "    }\n",
       "</style>\n",
       "<table border=\"1\" class=\"dataframe\">\n",
       "  <thead>\n",
       "    <tr style=\"text-align: right;\">\n",
       "      <th></th>\n",
       "      <th>time_start</th>\n",
       "      <th>time_end</th>\n",
       "      <th>total_spent</th>\n",
       "      <th>is_successful</th>\n",
       "      <th>gender</th>\n",
       "      <th>age</th>\n",
       "      <th>customer_id</th>\n",
       "      <th>became_member_on</th>\n",
       "      <th>income</th>\n",
       "      <th>year</th>\n",
       "      <th>...</th>\n",
       "      <th>difficulty</th>\n",
       "      <th>duration</th>\n",
       "      <th>offer_id</th>\n",
       "      <th>bogo</th>\n",
       "      <th>discount</th>\n",
       "      <th>informational</th>\n",
       "      <th>email</th>\n",
       "      <th>mobile</th>\n",
       "      <th>social</th>\n",
       "      <th>web</th>\n",
       "    </tr>\n",
       "  </thead>\n",
       "  <tbody>\n",
       "    <tr>\n",
       "      <th>0</th>\n",
       "      <td>0.0</td>\n",
       "      <td>7.0</td>\n",
       "      <td>37.67</td>\n",
       "      <td>1</td>\n",
       "      <td>0</td>\n",
       "      <td>75.0</td>\n",
       "      <td>78afa995795e4d85b5d9ceeca43f5fef</td>\n",
       "      <td>2017-05-09</td>\n",
       "      <td>100000.0</td>\n",
       "      <td>2017</td>\n",
       "      <td>...</td>\n",
       "      <td>5</td>\n",
       "      <td>7</td>\n",
       "      <td>9b98b8c7a33c4b65b9aebfe6a799e6d9</td>\n",
       "      <td>1</td>\n",
       "      <td>0</td>\n",
       "      <td>0</td>\n",
       "      <td>1</td>\n",
       "      <td>1</td>\n",
       "      <td>1</td>\n",
       "      <td>0</td>\n",
       "    </tr>\n",
       "    <tr>\n",
       "      <th>1</th>\n",
       "      <td>7.0</td>\n",
       "      <td>10.0</td>\n",
       "      <td>49.39</td>\n",
       "      <td>0</td>\n",
       "      <td>0</td>\n",
       "      <td>75.0</td>\n",
       "      <td>78afa995795e4d85b5d9ceeca43f5fef</td>\n",
       "      <td>2017-05-09</td>\n",
       "      <td>100000.0</td>\n",
       "      <td>2017</td>\n",
       "      <td>...</td>\n",
       "      <td>0</td>\n",
       "      <td>3</td>\n",
       "      <td>5a8bc65990b245e5a138643cd4eb9837</td>\n",
       "      <td>0</td>\n",
       "      <td>0</td>\n",
       "      <td>1</td>\n",
       "      <td>1</td>\n",
       "      <td>1</td>\n",
       "      <td>1</td>\n",
       "      <td>0</td>\n",
       "    </tr>\n",
       "    <tr>\n",
       "      <th>2</th>\n",
       "      <td>17.0</td>\n",
       "      <td>24.0</td>\n",
       "      <td>48.28</td>\n",
       "      <td>1</td>\n",
       "      <td>0</td>\n",
       "      <td>75.0</td>\n",
       "      <td>78afa995795e4d85b5d9ceeca43f5fef</td>\n",
       "      <td>2017-05-09</td>\n",
       "      <td>100000.0</td>\n",
       "      <td>2017</td>\n",
       "      <td>...</td>\n",
       "      <td>10</td>\n",
       "      <td>7</td>\n",
       "      <td>ae264e3637204a6fb9bb56bc8210ddfd</td>\n",
       "      <td>1</td>\n",
       "      <td>0</td>\n",
       "      <td>0</td>\n",
       "      <td>1</td>\n",
       "      <td>1</td>\n",
       "      <td>1</td>\n",
       "      <td>0</td>\n",
       "    </tr>\n",
       "    <tr>\n",
       "      <th>3</th>\n",
       "      <td>21.0</td>\n",
       "      <td>26.0</td>\n",
       "      <td>48.28</td>\n",
       "      <td>1</td>\n",
       "      <td>0</td>\n",
       "      <td>75.0</td>\n",
       "      <td>78afa995795e4d85b5d9ceeca43f5fef</td>\n",
       "      <td>2017-05-09</td>\n",
       "      <td>100000.0</td>\n",
       "      <td>2017</td>\n",
       "      <td>...</td>\n",
       "      <td>5</td>\n",
       "      <td>5</td>\n",
       "      <td>f19421c1d4aa40978ebb69ca19b0e20d</td>\n",
       "      <td>1</td>\n",
       "      <td>0</td>\n",
       "      <td>0</td>\n",
       "      <td>1</td>\n",
       "      <td>1</td>\n",
       "      <td>1</td>\n",
       "      <td>1</td>\n",
       "    </tr>\n",
       "    <tr>\n",
       "      <th>4</th>\n",
       "      <td>0.0</td>\n",
       "      <td>7.0</td>\n",
       "      <td>0.00</td>\n",
       "      <td>0</td>\n",
       "      <td>1</td>\n",
       "      <td>68.0</td>\n",
       "      <td>e2127556f4f64592b11af22de27a7932</td>\n",
       "      <td>2018-04-26</td>\n",
       "      <td>70000.0</td>\n",
       "      <td>2018</td>\n",
       "      <td>...</td>\n",
       "      <td>10</td>\n",
       "      <td>7</td>\n",
       "      <td>2906b810c7d4411798c6938adc9daaa5</td>\n",
       "      <td>0</td>\n",
       "      <td>1</td>\n",
       "      <td>0</td>\n",
       "      <td>1</td>\n",
       "      <td>1</td>\n",
       "      <td>1</td>\n",
       "      <td>0</td>\n",
       "    </tr>\n",
       "  </tbody>\n",
       "</table>\n",
       "<p>5 rows × 22 columns</p>\n",
       "</div>"
      ],
      "text/plain": [
       "   time_start  time_end  total_spent  is_successful  gender   age  \\\n",
       "0         0.0       7.0        37.67              1       0  75.0   \n",
       "1         7.0      10.0        49.39              0       0  75.0   \n",
       "2        17.0      24.0        48.28              1       0  75.0   \n",
       "3        21.0      26.0        48.28              1       0  75.0   \n",
       "4         0.0       7.0         0.00              0       1  68.0   \n",
       "\n",
       "                        customer_id became_member_on    income  year  ...  \\\n",
       "0  78afa995795e4d85b5d9ceeca43f5fef       2017-05-09  100000.0  2017  ...   \n",
       "1  78afa995795e4d85b5d9ceeca43f5fef       2017-05-09  100000.0  2017  ...   \n",
       "2  78afa995795e4d85b5d9ceeca43f5fef       2017-05-09  100000.0  2017  ...   \n",
       "3  78afa995795e4d85b5d9ceeca43f5fef       2017-05-09  100000.0  2017  ...   \n",
       "4  e2127556f4f64592b11af22de27a7932       2018-04-26   70000.0  2018  ...   \n",
       "\n",
       "   difficulty  duration                          offer_id  bogo discount  \\\n",
       "0           5         7  9b98b8c7a33c4b65b9aebfe6a799e6d9     1        0   \n",
       "1           0         3  5a8bc65990b245e5a138643cd4eb9837     0        0   \n",
       "2          10         7  ae264e3637204a6fb9bb56bc8210ddfd     1        0   \n",
       "3           5         5  f19421c1d4aa40978ebb69ca19b0e20d     1        0   \n",
       "4          10         7  2906b810c7d4411798c6938adc9daaa5     0        1   \n",
       "\n",
       "   informational  email  mobile  social  web  \n",
       "0              0      1       1       1    0  \n",
       "1              1      1       1       1    0  \n",
       "2              0      1       1       1    0  \n",
       "3              0      1       1       1    1  \n",
       "4              0      1       1       1    0  \n",
       "\n",
       "[5 rows x 22 columns]"
      ]
     },
     "execution_count": 48,
     "metadata": {},
     "output_type": "execute_result"
    }
   ],
   "source": [
    "df.head()"
   ]
  },
  {
   "cell_type": "code",
   "execution_count": 49,
   "metadata": {},
   "outputs": [
    {
     "data": {
      "text/html": [
       "<div>\n",
       "<style scoped>\n",
       "    .dataframe tbody tr th:only-of-type {\n",
       "        vertical-align: middle;\n",
       "    }\n",
       "\n",
       "    .dataframe tbody tr th {\n",
       "        vertical-align: top;\n",
       "    }\n",
       "\n",
       "    .dataframe thead th {\n",
       "        text-align: right;\n",
       "    }\n",
       "</style>\n",
       "<table border=\"1\" class=\"dataframe\">\n",
       "  <thead>\n",
       "    <tr style=\"text-align: right;\">\n",
       "      <th></th>\n",
       "      <th>count</th>\n",
       "      <th>sum</th>\n",
       "      <th>percent_success</th>\n",
       "    </tr>\n",
       "    <tr>\n",
       "      <th>offer_id</th>\n",
       "      <th></th>\n",
       "      <th></th>\n",
       "      <th></th>\n",
       "    </tr>\n",
       "  </thead>\n",
       "  <tbody>\n",
       "    <tr>\n",
       "      <th>0b1e1539f2cc45b7b9fa7c272da2e1d7</th>\n",
       "      <td>6726</td>\n",
       "      <td>3078</td>\n",
       "      <td>45.762712</td>\n",
       "    </tr>\n",
       "    <tr>\n",
       "      <th>2298d6c36e964ae4a3e7e9706d1fb8c2</th>\n",
       "      <td>6655</td>\n",
       "      <td>4841</td>\n",
       "      <td>72.742299</td>\n",
       "    </tr>\n",
       "    <tr>\n",
       "      <th>2906b810c7d4411798c6938adc9daaa5</th>\n",
       "      <td>6631</td>\n",
       "      <td>3165</td>\n",
       "      <td>47.730357</td>\n",
       "    </tr>\n",
       "    <tr>\n",
       "      <th>3f207df678b143eea3cee63160fa8bed</th>\n",
       "      <td>6657</td>\n",
       "      <td>514</td>\n",
       "      <td>7.721196</td>\n",
       "    </tr>\n",
       "    <tr>\n",
       "      <th>4d5c57ea9a6940dd891ad53e9dbe8da0</th>\n",
       "      <td>6593</td>\n",
       "      <td>3410</td>\n",
       "      <td>51.721523</td>\n",
       "    </tr>\n",
       "    <tr>\n",
       "      <th>5a8bc65990b245e5a138643cd4eb9837</th>\n",
       "      <td>6643</td>\n",
       "      <td>417</td>\n",
       "      <td>6.277284</td>\n",
       "    </tr>\n",
       "    <tr>\n",
       "      <th>9b98b8c7a33c4b65b9aebfe6a799e6d9</th>\n",
       "      <td>6685</td>\n",
       "      <td>3228</td>\n",
       "      <td>48.287210</td>\n",
       "    </tr>\n",
       "    <tr>\n",
       "      <th>ae264e3637204a6fb9bb56bc8210ddfd</th>\n",
       "      <td>6683</td>\n",
       "      <td>3652</td>\n",
       "      <td>54.646117</td>\n",
       "    </tr>\n",
       "    <tr>\n",
       "      <th>f19421c1d4aa40978ebb69ca19b0e20d</th>\n",
       "      <td>6576</td>\n",
       "      <td>4052</td>\n",
       "      <td>61.618005</td>\n",
       "    </tr>\n",
       "    <tr>\n",
       "      <th>fafdcd668e3743c1bb461111dcafc2a4</th>\n",
       "      <td>6652</td>\n",
       "      <td>5008</td>\n",
       "      <td>75.285628</td>\n",
       "    </tr>\n",
       "  </tbody>\n",
       "</table>\n",
       "</div>"
      ],
      "text/plain": [
       "                                  count   sum  percent_success\n",
       "offer_id                                                      \n",
       "0b1e1539f2cc45b7b9fa7c272da2e1d7   6726  3078        45.762712\n",
       "2298d6c36e964ae4a3e7e9706d1fb8c2   6655  4841        72.742299\n",
       "2906b810c7d4411798c6938adc9daaa5   6631  3165        47.730357\n",
       "3f207df678b143eea3cee63160fa8bed   6657   514         7.721196\n",
       "4d5c57ea9a6940dd891ad53e9dbe8da0   6593  3410        51.721523\n",
       "5a8bc65990b245e5a138643cd4eb9837   6643   417         6.277284\n",
       "9b98b8c7a33c4b65b9aebfe6a799e6d9   6685  3228        48.287210\n",
       "ae264e3637204a6fb9bb56bc8210ddfd   6683  3652        54.646117\n",
       "f19421c1d4aa40978ebb69ca19b0e20d   6576  4052        61.618005\n",
       "fafdcd668e3743c1bb461111dcafc2a4   6652  5008        75.285628"
      ]
     },
     "execution_count": 49,
     "metadata": {},
     "output_type": "execute_result"
    }
   ],
   "source": [
    "g = df.groupby('offer_id')['is_successful'].agg(['count', 'sum'])\n",
    "g['percent_success'] = (g['sum'] / g['count']) * 100\n",
    "g"
   ]
  },
  {
   "cell_type": "markdown",
   "metadata": {},
   "source": [
    "### Generate a plot that illustrates:\n",
    "##### How many customers were provided with a specific offer?\n",
    "##### Offer success rate (percentsuccess)"
   ]
  },
  {
   "cell_type": "code",
   "execution_count": 50,
   "metadata": {},
   "outputs": [
    {
     "data": {
      "image/png": "[encoded data removed]",
      "text/plain": [
       "<Figure size 1440x576 with 2 Axes>"
      ]
     },
     "metadata": {
      "needs_background": "light"
     },
     "output_type": "display_data"
    }
   ],
   "source": [
    "fig, ax = plt.subplots(ncols=2, nrows=1, figsize=(20, 8), sharey=True)\n",
    "g['percent_success'].plot(kind='barh', ax=ax[0])\n",
    "ax[0].set_title('Percentage of successful offers')\n",
    "g['count'].plot(kind='barh', ax=ax[1])\n",
    "ax[1].set_title('Number customers each offer was given to');"
   ]
  },
  {
   "cell_type": "code",
   "execution_count": 51,
   "metadata": {},
   "outputs": [
    {
     "data": {
      "image/png": "[encoded data removed]",
      "text/plain": [
       "<Figure size 432x288 with 1 Axes>"
      ]
     },
     "metadata": {
      "needs_background": "light"
     },
     "output_type": "display_data"
    }
   ],
   "source": [
    "ax = sns.countplot('gender', hue='is_successful', data=df)\n",
    "ax.set_xticklabels(['Males', 'Females'])\n",
    "ax.set_title('Number of successful and unsuccessful offers hue gender');"
   ]
  },
  {
   "cell_type": "markdown",
   "metadata": {},
   "source": [
    "We see, that offers, which were sent to men, are more successful than offers sent to women.  "
   ]
  },
  {
   "cell_type": "markdown",
   "metadata": {},
   "source": [
    "# Build models"
   ]
  },
  {
   "cell_type": "code",
   "execution_count": 52,
   "metadata": {},
   "outputs": [
    {
     "name": "stdout",
     "output_type": "stream",
     "text": [
      "Index(['time_start', 'time_end', 'total_spent', 'is_successful', 'gender',\n",
      "       'age', 'customer_id', 'became_member_on', 'income', 'year', 'month',\n",
      "       'reward', 'difficulty', 'duration', 'offer_id', 'bogo', 'discount',\n",
      "       'informational', 'email', 'mobile', 'social', 'web'],\n",
      "      dtype='object')\n"
     ]
    }
   ],
   "source": [
    "# look at columns\n",
    "print(df.columns)"
   ]
  },
  {
   "cell_type": "code",
   "execution_count": 53,
   "metadata": {},
   "outputs": [],
   "source": [
    "columns_for_prediction = ['gender', 'age', \n",
    "       'income', 'reward', 'difficulty', 'duration',\n",
    "       'bogo', 'discount', 'informational', 'email', 'mobile',\n",
    "       'social', 'web']\n",
    "binary_columns = ['bogo', 'discount', 'informational', 'email', 'mobile',\n",
    "       'social', 'web', 'gender']\n",
    "num_columns = ['age', 'income', 'reward', 'difficulty', 'duration']\n"
   ]
  },
  {
   "cell_type": "code",
   "execution_count": 54,
   "metadata": {},
   "outputs": [],
   "source": [
    "# separate features from targets\n",
    "X = df[columns_for_prediction]\n",
    "y = df['is_successful']"
   ]
  },
  {
   "cell_type": "code",
   "execution_count": 55,
   "metadata": {},
   "outputs": [],
   "source": [
    "# create pipline to preprocess features. There are binary and numeric features, so they need to be preprocessed\n",
    "# in different way. For example, we can leave the binary features without changing, but numeric scale\n",
    "pipeline = Pipeline(steps = [       \n",
    "    ('feature_processing', FeatureUnion(\n",
    "        transformer_list = [        \n",
    "            ('binary_processing', FunctionTransformer(lambda data: data[binary_columns])), \n",
    "               \n",
    "            ('numeric_processing', Pipeline(steps = [\n",
    "                ('selecting', FunctionTransformer(lambda data: data[num_columns])),\n",
    "                ('scaling', StandardScaler())            \n",
    "                        ])),\n",
    "        ]))])"
   ]
  },
  {
   "cell_type": "code",
   "execution_count": 56,
   "metadata": {},
   "outputs": [],
   "source": [
    "X_train, X_test, y_train,  y_test = train_test_split(X, y, test_size=0.2, random_state=17)"
   ]
  },
  {
   "cell_type": "code",
   "execution_count": 57,
   "metadata": {},
   "outputs": [],
   "source": [
    "X_train = pipeline.fit_transform(X_train)\n",
    "X_test = pipeline.transform(X_test)"
   ]
  },
  {
   "cell_type": "markdown",
   "metadata": {},
   "source": [
    "### Construct Adaboost Classifier"
   ]
  },
  {
   "cell_type": "code",
   "execution_count": 92,
   "metadata": {
    "scrolled": true
   },
   "outputs": [
    {
     "name": "stdout",
     "output_type": "stream",
     "text": [
      "Fitting 5 folds for each of 5 candidates, totalling 25 fits\n"
     ]
    },
    {
     "name": "stderr",
     "output_type": "stream",
     "text": [
      "[Parallel(n_jobs=-1)]: Using backend LokyBackend with 4 concurrent workers.\n",
      "[Parallel(n_jobs=-1)]: Done  25 out of  25 | elapsed:  2.6min finished\n"
     ]
    },
    {
     "data": {
      "text/plain": [
       "GridSearchCV(cv=5, error_score=nan,\n",
       "             estimator=AdaBoostClassifier(algorithm='SAMME.R',\n",
       "                                          base_estimator=None,\n",
       "                                          learning_rate=1.0, n_estimators=50,\n",
       "                                          random_state=None),\n",
       "             iid='deprecated', n_jobs=-1,\n",
       "             param_grid={'n_estimators': [100, 150, 200, 500, 1000]},\n",
       "             pre_dispatch='2*n_jobs', refit=True, return_train_score=False,\n",
       "             scoring='f1', verbose=1)"
      ]
     },
     "execution_count": 92,
     "metadata": {},
     "output_type": "execute_result"
    }
   ],
   "source": [
    "# find best Adaboost\n",
    "parameters = {'n_estimators': [100, 150, 200, 500, 1000]}\n",
    "gs_adaboost = GridSearchCV(AdaBoostClassifier(), param_grid=parameters, cv=5, scoring='f1',\n",
    "                          verbose=1, n_jobs=-1)\n",
    "gs_adaboost.fit(X_train, y_train)"
   ]
  },
  {
   "cell_type": "code",
   "execution_count": 93,
   "metadata": {},
   "outputs": [
    {
     "data": {
      "text/plain": [
       "(0.7028058484132627, {'n_estimators': 150})"
      ]
     },
     "execution_count": 93,
     "metadata": {},
     "output_type": "execute_result"
    }
   ],
   "source": [
    "gs_adaboost.best_score_, gs_adaboost.best_params_"
   ]
  },
  {
   "cell_type": "code",
   "execution_count": 94,
   "metadata": {},
   "outputs": [],
   "source": [
    "# save model\n",
    "adaboost = gs_adaboost.best_estimator_"
   ]
  },
  {
   "cell_type": "markdown",
   "metadata": {},
   "source": [
    "### Construct LogisticRegressionClassifier"
   ]
  },
  {
   "cell_type": "code",
   "execution_count": 86,
   "metadata": {},
   "outputs": [
    {
     "name": "stdout",
     "output_type": "stream",
     "text": [
      "Fitting 5 folds for each of 16 candidates, totalling 80 fits\n"
     ]
    },
    {
     "name": "stderr",
     "output_type": "stream",
     "text": [
      "[Parallel(n_jobs=-1)]: Using backend LokyBackend with 4 concurrent workers.\n",
      "[Parallel(n_jobs=-1)]: Done  80 out of  80 | elapsed:    2.9s finished\n"
     ]
    },
    {
     "data": {
      "text/plain": [
       "(0.6893166063943035, {'C': 1, 'penalty': 'l2'})"
      ]
     },
     "execution_count": 86,
     "metadata": {},
     "output_type": "execute_result"
    }
   ],
   "source": [
    "# find best LogisticRegression\n",
    "parameters = {'penalty': ['l1', 'l2', 'elasticnet', None], 'C': [0.001, 0.01, 0.1, 1]}\n",
    "gs_lr = GridSearchCV(LogisticRegression(), param_grid=parameters, cv=5, scoring='f1',\n",
    "                          verbose=1, n_jobs=-1)\n",
    "gs_lr.fit(X_train, y_train)\n",
    "gs_lr.best_score_, gs_lr.best_params_"
   ]
  },
  {
   "cell_type": "code",
   "execution_count": 87,
   "metadata": {},
   "outputs": [],
   "source": [
    "lr = gs_lr.best_estimator_"
   ]
  },
  {
   "cell_type": "markdown",
   "metadata": {},
   "source": [
    "### Construct Dummy Classifier"
   ]
  },
  {
   "cell_type": "code",
   "execution_count": 88,
   "metadata": {},
   "outputs": [
    {
     "data": {
      "text/plain": [
       "0.47714924896132943"
      ]
     },
     "execution_count": 88,
     "metadata": {},
     "output_type": "execute_result"
    }
   ],
   "source": [
    "dummy = DummyClassifier()\n",
    "dummy.fit(X_train, y_train)\n",
    "f1_score(y_test, dummy.predict(X_test))"
   ]
  },
  {
   "cell_type": "markdown",
   "metadata": {},
   "source": [
    "### Compare two models"
   ]
  },
  {
   "cell_type": "code",
   "execution_count": 95,
   "metadata": {},
   "outputs": [],
   "source": [
    "# get prediction for train and test dataset\n",
    "adaboost_prediction_test = adaboost.predict(X_test)\n",
    "lr_prediction_test = lr.predict(X_test)\n",
    "adaboost_prediction_train = adaboost.predict(X_train)\n",
    "lr_prediction_train = lr.predict(X_train)"
   ]
  },
  {
   "cell_type": "markdown",
   "metadata": {},
   "source": [
    "#### Plot confusion matrixes"
   ]
  },
  {
   "cell_type": "code",
   "execution_count": 96,
   "metadata": {},
   "outputs": [
    {
     "data": {
      "image/png": "[encoded data removed]",
      "text/plain": [
       "<Figure size 864x864 with 8 Axes>"
      ]
     },
     "metadata": {
      "needs_background": "light"
     },
     "output_type": "display_data"
    }
   ],
   "source": [
    "fig, axes = plt.subplots(2, 2, figsize=(12, 12))\n",
    "sns.heatmap(confusion_matrix(y_train, lr_prediction_train), annot=True, fmt='d', ax=axes[0,0])\n",
    "bot, top = axes[0,0].get_ylim() \n",
    "axes[0, 0].set_ylim(bot + 0.5, top - 0.5)\n",
    "axes[0, 0].set_xlabel('Predicted label')\n",
    "axes[0, 0].set_ylabel('True label')\n",
    "axes[0, 0].set_title('Confusion matrix LogisticRegression (train set)')\n",
    "sns.heatmap(confusion_matrix(y_test, lr_prediction_test), annot=True, fmt='d', ax=axes[0, 1])\n",
    "bot, top = axes[0, 1].get_ylim() \n",
    "axes[0, 1].set_ylim(bot + 0.5, top - 0.5)\n",
    "axes[0, 1].set_xlabel('Predicted label')\n",
    "axes[0, 1].set_ylabel('True label')\n",
    "axes[0, 1].set_title('Confusion matrix LogisticRegression (test set)')\n",
    "\n",
    "sns.heatmap(confusion_matrix(y_train, adaboost_prediction_train), annot=True, fmt='d', ax=axes[1, 0])\n",
    "bot, top = axes[1, 0].get_ylim() \n",
    "axes[1, 0].set_ylim(bot + 0.5, top - 0.5)\n",
    "axes[1, 0].set_xlabel('Predicted label')\n",
    "axes[1, 0].set_ylabel('True label')\n",
    "axes[1, 0].set_title('Confusion matrix Adaboost (train set)')\n",
    "\n",
    "axes[1, 1] = sns.heatmap(confusion_matrix(y_test, adaboost_prediction_test), annot=True, fmt='d', ax=axes[1, 1])\n",
    "bot, top = axes[1, 1].get_ylim() \n",
    "axes[1, 1].set_ylim(bot + 0.5, top - 0.5)\n",
    "axes[1, 1].set_xlabel('Predicted label')\n",
    "axes[1, 1].set_ylabel('True label')\n",
    "axes[1, 1].set_title('Confusion matrix Adaboost (test set)');"
   ]
  },
  {
   "cell_type": "markdown",
   "metadata": {},
   "source": [
    "#### Print classification report"
   ]
  },
  {
   "cell_type": "code",
   "execution_count": 97,
   "metadata": {},
   "outputs": [
    {
     "name": "stdout",
     "output_type": "stream",
     "text": [
      "Classification report for Adaboost classifier (train)\n",
      "              precision    recall  f1-score   support\n",
      "\n",
      "           0       0.75      0.65      0.70     28183\n",
      "           1       0.66      0.76      0.70     25017\n",
      "\n",
      "    accuracy                           0.70     53200\n",
      "   macro avg       0.70      0.70      0.70     53200\n",
      "weighted avg       0.71      0.70      0.70     53200\n",
      "\n",
      "\n",
      "Classification report for Adaboost classifier (test)\n",
      "              precision    recall  f1-score   support\n",
      "\n",
      "           0       0.74      0.66      0.70      6953\n",
      "           1       0.67      0.75      0.71      6348\n",
      "\n",
      "    accuracy                           0.70     13301\n",
      "   macro avg       0.70      0.70      0.70     13301\n",
      "weighted avg       0.71      0.70      0.70     13301\n",
      "\n",
      "\n",
      "\n",
      "Classification report for LogisticRegression classifier (train)\n",
      "              precision    recall  f1-score   support\n",
      "\n",
      "           0       0.73      0.67      0.70     28183\n",
      "           1       0.66      0.72      0.69     25017\n",
      "\n",
      "    accuracy                           0.70     53200\n",
      "   macro avg       0.70      0.70      0.69     53200\n",
      "weighted avg       0.70      0.70      0.70     53200\n",
      "\n",
      "\n",
      "Classification report for LogisticRegression classifier classifier (test)\n",
      "              precision    recall  f1-score   support\n",
      "\n",
      "           0       0.73      0.68      0.70      6953\n",
      "           1       0.67      0.72      0.70      6348\n",
      "\n",
      "    accuracy                           0.70     13301\n",
      "   macro avg       0.70      0.70      0.70     13301\n",
      "weighted avg       0.70      0.70      0.70     13301\n",
      "\n",
      "\n",
      "Classification report for Dummy classifier (test)\n",
      "              precision    recall  f1-score   support\n",
      "\n",
      "           0       0.53      0.54      0.53      6953\n",
      "           1       0.48      0.48      0.48      6348\n",
      "\n",
      "    accuracy                           0.51     13301\n",
      "   macro avg       0.51      0.51      0.51     13301\n",
      "weighted avg       0.51      0.51      0.51     13301\n",
      "\n"
     ]
    }
   ],
   "source": [
    "print('Classification report for Adaboost classifier (train)')\n",
    "print(classification_report(y_train, adaboost_prediction_train))\n",
    "print()\n",
    "print('Classification report for Adaboost classifier (test)')\n",
    "print(classification_report(y_test, adaboost_prediction_test))\n",
    "print()\n",
    "print()\n",
    "print('Classification report for LogisticRegression classifier (train)')\n",
    "print(classification_report(y_train, lr_prediction_train))\n",
    "print()\n",
    "print('Classification report for LogisticRegression classifier classifier (test)')\n",
    "print(classification_report(y_test, lr_prediction_test))\n",
    "print()\n",
    "print('Classification report for Dummy classifier (test)')\n",
    "print(classification_report(y_test, dummy.predict(X_test)))"
   ]
  },
  {
   "cell_type": "markdown",
   "metadata": {},
   "source": [
    "### Results"
   ]
  },
  {
   "cell_type": "markdown",
   "metadata": {},
   "source": [
    "In this problem I tried to create a model that will predict whether a customer will respond to an offer. My model use customers' age, income and gender, as well as the offer properties and channels. For create a dataset for prediction, I've combined portfolio, profile, and transaction datasets in one dataframe, \n",
    "\n",
    "My strategy for solving this problem has mainly three steps. First, I combined offer portfolio, customer profile, and transaction data. To find was offer successful or not I combined flags if offer was seen after it was received and before it's end time. \n",
    "\n",
    "Second, I chose AdaBoostClassifier and SVC and with GridSearchCV fount best parameters for both these models. Also I've created DummyClassifier to compare the results of AdaBoostClassifier and SVC with \"random\" prediction.\n",
    "\n",
    "Third, I compared the performance of models with plotting the confusion matrixes and classification reports for evaluation on train and test sets.\n",
    "\n",
    "For this problem for AdaBoostClassifier best number of estimators is 10, LogisticRegression works better with L2 penalty and C=1. Thus, AdaBoostClassifier has train and test assuracy 0.7, F1-scores for train and test sets are also 0.7. LogisticRegression has accuracy on train set 0.69, on test set - 0.7, F1-scores for train and test sets are 0.7. Models are not overfitted, because in both cases there is almost no difference between scores on train and test set.\n",
    "\n",
    "Looking at plots with confusion matrixes, AdaBoostClassifier tends to be more accurate in prediction successful offers (4778 vs 4584 of LogisticRegression's results on test set), while LogisticRegression better predicts unsuccess.\n",
    "\n",
    "We can make a conclusion, that in case of available dataset and features, both LogisticRegression and AdaBoostClassifier can be used. Maybe this models could give better results with additional features in dataset, for example, about customers we only know age, gender and income, but we don't know other important information, such as are they merried, do they have children, are they students, etc.\n"
   ]
  },
  {
   "cell_type": "markdown",
   "metadata": {},
   "source": [
    "# Please check this link on Medium\n",
    "\n",
    "https://medium.com/@wise_plum_macaw_832/starbucks-analyse-a-coffee-towards-data-set-f811cc369490"
   ]
  },
  {
   "cell_type": "code",
   "execution_count": null,
   "metadata": {},
   "outputs": [],
   "source": []
  }
 ],
 "metadata": {
  "kernelspec": {
   "display_name": "Python 3",
   "language": "python",
   "name": "python3"
  },
  "language_info": {
   "codemirror_mode": {
    "name": "ipython",
    "version": 3
   },
   "file_extension": ".py",
   "mimetype": "text/x-python",
   "name": "python",
   "nbconvert_exporter": "python",
   "pygments_lexer": "ipython3",
   "version": "3.7.3"
  }
 },
 "nbformat": 4,
 "nbformat_minor": 2
}
